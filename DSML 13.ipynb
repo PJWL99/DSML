{
 "cells": [
  {
   "cell_type": "code",
   "execution_count": 1,
   "id": "3683edef-1213-4d5c-8b20-d1a0ea81a6e6",
   "metadata": {},
   "outputs": [],
   "source": [
    "import pandas as pd"
   ]
  },
  {
   "cell_type": "code",
   "execution_count": 2,
   "id": "dc99a225-6a7d-4f16-8271-95d718eba82b",
   "metadata": {},
   "outputs": [],
   "source": [
    "df = pd.read_csv(\"C:\\\\Users\\\\Prajwal Mahajan\\\\Downloads\\\\Datasets\\\\Covid Vaccine Statewise.csv\")"
   ]
  },
  {
   "cell_type": "code",
   "execution_count": 3,
   "id": "33b5d9f4-953f-44d2-bc5b-072087d932a2",
   "metadata": {},
   "outputs": [
    {
     "data": {
      "text/html": [
       "<div>\n",
       "<style scoped>\n",
       "    .dataframe tbody tr th:only-of-type {\n",
       "        vertical-align: middle;\n",
       "    }\n",
       "\n",
       "    .dataframe tbody tr th {\n",
       "        vertical-align: top;\n",
       "    }\n",
       "\n",
       "    .dataframe thead th {\n",
       "        text-align: right;\n",
       "    }\n",
       "</style>\n",
       "<table border=\"1\" class=\"dataframe\">\n",
       "  <thead>\n",
       "    <tr style=\"text-align: right;\">\n",
       "      <th></th>\n",
       "      <th>Updated On</th>\n",
       "      <th>State</th>\n",
       "      <th>Total Doses Administered</th>\n",
       "      <th>Sessions</th>\n",
       "      <th>Sites</th>\n",
       "      <th>First Dose Administered</th>\n",
       "      <th>Second Dose Administered</th>\n",
       "      <th>Male (Doses Administered)</th>\n",
       "      <th>Female (Doses Administered)</th>\n",
       "      <th>Transgender (Doses Administered)</th>\n",
       "      <th>...</th>\n",
       "      <th>18-44 Years (Doses Administered)</th>\n",
       "      <th>45-60 Years (Doses Administered)</th>\n",
       "      <th>60+ Years (Doses Administered)</th>\n",
       "      <th>18-44 Years(Individuals Vaccinated)</th>\n",
       "      <th>45-60 Years(Individuals Vaccinated)</th>\n",
       "      <th>60+ Years(Individuals Vaccinated)</th>\n",
       "      <th>Male(Individuals Vaccinated)</th>\n",
       "      <th>Female(Individuals Vaccinated)</th>\n",
       "      <th>Transgender(Individuals Vaccinated)</th>\n",
       "      <th>Total Individuals Vaccinated</th>\n",
       "    </tr>\n",
       "  </thead>\n",
       "  <tbody>\n",
       "    <tr>\n",
       "      <th>0</th>\n",
       "      <td>16/01/2021</td>\n",
       "      <td>India</td>\n",
       "      <td>48276.0</td>\n",
       "      <td>3455.0</td>\n",
       "      <td>2957.0</td>\n",
       "      <td>48276.0</td>\n",
       "      <td>0.0</td>\n",
       "      <td>NaN</td>\n",
       "      <td>NaN</td>\n",
       "      <td>NaN</td>\n",
       "      <td>...</td>\n",
       "      <td>NaN</td>\n",
       "      <td>NaN</td>\n",
       "      <td>NaN</td>\n",
       "      <td>NaN</td>\n",
       "      <td>NaN</td>\n",
       "      <td>NaN</td>\n",
       "      <td>23757.0</td>\n",
       "      <td>24517.0</td>\n",
       "      <td>2.0</td>\n",
       "      <td>48276.0</td>\n",
       "    </tr>\n",
       "    <tr>\n",
       "      <th>1</th>\n",
       "      <td>17/01/2021</td>\n",
       "      <td>India</td>\n",
       "      <td>58604.0</td>\n",
       "      <td>8532.0</td>\n",
       "      <td>4954.0</td>\n",
       "      <td>58604.0</td>\n",
       "      <td>0.0</td>\n",
       "      <td>NaN</td>\n",
       "      <td>NaN</td>\n",
       "      <td>NaN</td>\n",
       "      <td>...</td>\n",
       "      <td>NaN</td>\n",
       "      <td>NaN</td>\n",
       "      <td>NaN</td>\n",
       "      <td>NaN</td>\n",
       "      <td>NaN</td>\n",
       "      <td>NaN</td>\n",
       "      <td>27348.0</td>\n",
       "      <td>31252.0</td>\n",
       "      <td>4.0</td>\n",
       "      <td>58604.0</td>\n",
       "    </tr>\n",
       "    <tr>\n",
       "      <th>2</th>\n",
       "      <td>18/01/2021</td>\n",
       "      <td>India</td>\n",
       "      <td>99449.0</td>\n",
       "      <td>13611.0</td>\n",
       "      <td>6583.0</td>\n",
       "      <td>99449.0</td>\n",
       "      <td>0.0</td>\n",
       "      <td>NaN</td>\n",
       "      <td>NaN</td>\n",
       "      <td>NaN</td>\n",
       "      <td>...</td>\n",
       "      <td>NaN</td>\n",
       "      <td>NaN</td>\n",
       "      <td>NaN</td>\n",
       "      <td>NaN</td>\n",
       "      <td>NaN</td>\n",
       "      <td>NaN</td>\n",
       "      <td>41361.0</td>\n",
       "      <td>58083.0</td>\n",
       "      <td>5.0</td>\n",
       "      <td>99449.0</td>\n",
       "    </tr>\n",
       "    <tr>\n",
       "      <th>3</th>\n",
       "      <td>19/01/2021</td>\n",
       "      <td>India</td>\n",
       "      <td>195525.0</td>\n",
       "      <td>17855.0</td>\n",
       "      <td>7951.0</td>\n",
       "      <td>195525.0</td>\n",
       "      <td>0.0</td>\n",
       "      <td>NaN</td>\n",
       "      <td>NaN</td>\n",
       "      <td>NaN</td>\n",
       "      <td>...</td>\n",
       "      <td>NaN</td>\n",
       "      <td>NaN</td>\n",
       "      <td>NaN</td>\n",
       "      <td>NaN</td>\n",
       "      <td>NaN</td>\n",
       "      <td>NaN</td>\n",
       "      <td>81901.0</td>\n",
       "      <td>113613.0</td>\n",
       "      <td>11.0</td>\n",
       "      <td>195525.0</td>\n",
       "    </tr>\n",
       "    <tr>\n",
       "      <th>4</th>\n",
       "      <td>20/01/2021</td>\n",
       "      <td>India</td>\n",
       "      <td>251280.0</td>\n",
       "      <td>25472.0</td>\n",
       "      <td>10504.0</td>\n",
       "      <td>251280.0</td>\n",
       "      <td>0.0</td>\n",
       "      <td>NaN</td>\n",
       "      <td>NaN</td>\n",
       "      <td>NaN</td>\n",
       "      <td>...</td>\n",
       "      <td>NaN</td>\n",
       "      <td>NaN</td>\n",
       "      <td>NaN</td>\n",
       "      <td>NaN</td>\n",
       "      <td>NaN</td>\n",
       "      <td>NaN</td>\n",
       "      <td>98111.0</td>\n",
       "      <td>153145.0</td>\n",
       "      <td>24.0</td>\n",
       "      <td>251280.0</td>\n",
       "    </tr>\n",
       "  </tbody>\n",
       "</table>\n",
       "<p>5 rows × 24 columns</p>\n",
       "</div>"
      ],
      "text/plain": [
       "   Updated On  State  Total Doses Administered  Sessions   Sites   \\\n",
       "0  16/01/2021  India                   48276.0    3455.0   2957.0   \n",
       "1  17/01/2021  India                   58604.0    8532.0   4954.0   \n",
       "2  18/01/2021  India                   99449.0   13611.0   6583.0   \n",
       "3  19/01/2021  India                  195525.0   17855.0   7951.0   \n",
       "4  20/01/2021  India                  251280.0   25472.0  10504.0   \n",
       "\n",
       "   First Dose Administered  Second Dose Administered  \\\n",
       "0                  48276.0                       0.0   \n",
       "1                  58604.0                       0.0   \n",
       "2                  99449.0                       0.0   \n",
       "3                 195525.0                       0.0   \n",
       "4                 251280.0                       0.0   \n",
       "\n",
       "   Male (Doses Administered)  Female (Doses Administered)  \\\n",
       "0                        NaN                          NaN   \n",
       "1                        NaN                          NaN   \n",
       "2                        NaN                          NaN   \n",
       "3                        NaN                          NaN   \n",
       "4                        NaN                          NaN   \n",
       "\n",
       "   Transgender (Doses Administered)  ...  18-44 Years (Doses Administered)  \\\n",
       "0                               NaN  ...                               NaN   \n",
       "1                               NaN  ...                               NaN   \n",
       "2                               NaN  ...                               NaN   \n",
       "3                               NaN  ...                               NaN   \n",
       "4                               NaN  ...                               NaN   \n",
       "\n",
       "   45-60 Years (Doses Administered)  60+ Years (Doses Administered)  \\\n",
       "0                               NaN                             NaN   \n",
       "1                               NaN                             NaN   \n",
       "2                               NaN                             NaN   \n",
       "3                               NaN                             NaN   \n",
       "4                               NaN                             NaN   \n",
       "\n",
       "   18-44 Years(Individuals Vaccinated)  45-60 Years(Individuals Vaccinated)  \\\n",
       "0                                  NaN                                  NaN   \n",
       "1                                  NaN                                  NaN   \n",
       "2                                  NaN                                  NaN   \n",
       "3                                  NaN                                  NaN   \n",
       "4                                  NaN                                  NaN   \n",
       "\n",
       "   60+ Years(Individuals Vaccinated)  Male(Individuals Vaccinated)  \\\n",
       "0                                NaN                       23757.0   \n",
       "1                                NaN                       27348.0   \n",
       "2                                NaN                       41361.0   \n",
       "3                                NaN                       81901.0   \n",
       "4                                NaN                       98111.0   \n",
       "\n",
       "   Female(Individuals Vaccinated)  Transgender(Individuals Vaccinated)  \\\n",
       "0                         24517.0                                  2.0   \n",
       "1                         31252.0                                  4.0   \n",
       "2                         58083.0                                  5.0   \n",
       "3                        113613.0                                 11.0   \n",
       "4                        153145.0                                 24.0   \n",
       "\n",
       "   Total Individuals Vaccinated  \n",
       "0                       48276.0  \n",
       "1                       58604.0  \n",
       "2                       99449.0  \n",
       "3                      195525.0  \n",
       "4                      251280.0  \n",
       "\n",
       "[5 rows x 24 columns]"
      ]
     },
     "execution_count": 3,
     "metadata": {},
     "output_type": "execute_result"
    }
   ],
   "source": [
    "df.head()"
   ]
  },
  {
   "cell_type": "code",
   "execution_count": 4,
   "id": "7d712269-42c1-4bbc-a8a7-70586cfce8da",
   "metadata": {},
   "outputs": [
    {
     "data": {
      "text/plain": [
       "Updated On                              object\n",
       "State                                   object\n",
       "Total Doses Administered               float64\n",
       "Sessions                               float64\n",
       " Sites                                 float64\n",
       "First Dose Administered                float64\n",
       "Second Dose Administered               float64\n",
       "Male (Doses Administered)              float64\n",
       "Female (Doses Administered)            float64\n",
       "Transgender (Doses Administered)       float64\n",
       " Covaxin (Doses Administered)          float64\n",
       "CoviShield (Doses Administered)        float64\n",
       "Sputnik V (Doses Administered)         float64\n",
       "AEFI                                   float64\n",
       "18-44 Years (Doses Administered)       float64\n",
       "45-60 Years (Doses Administered)       float64\n",
       "60+ Years (Doses Administered)         float64\n",
       "18-44 Years(Individuals Vaccinated)    float64\n",
       "45-60 Years(Individuals Vaccinated)    float64\n",
       "60+ Years(Individuals Vaccinated)      float64\n",
       "Male(Individuals Vaccinated)           float64\n",
       "Female(Individuals Vaccinated)         float64\n",
       "Transgender(Individuals Vaccinated)    float64\n",
       "Total Individuals Vaccinated           float64\n",
       "dtype: object"
      ]
     },
     "execution_count": 4,
     "metadata": {},
     "output_type": "execute_result"
    }
   ],
   "source": [
    "df.dtypes"
   ]
  },
  {
   "cell_type": "code",
   "execution_count": 7,
   "id": "dc27d979-48fd-4378-985e-de16e6c4c711",
   "metadata": {},
   "outputs": [
    {
     "data": {
      "text/plain": [
       "Updated On                              213\n",
       "State                                    37\n",
       "Total Doses Administered               7376\n",
       "Sessions                               6464\n",
       " Sites                                 3044\n",
       "First Dose Administered                7367\n",
       "Second Dose Administered               6275\n",
       "Male (Doses Administered)              7170\n",
       "Female (Doses Administered)            7155\n",
       "Transgender (Doses Administered)       2117\n",
       " Covaxin (Doses Administered)          4353\n",
       "CoviShield (Doses Administered)        7375\n",
       "Sputnik V (Doses Administered)         1040\n",
       "AEFI                                   1548\n",
       "18-44 Years (Doses Administered)       1694\n",
       "45-60 Years (Doses Administered)       1693\n",
       "60+ Years (Doses Administered)         1692\n",
       "18-44 Years(Individuals Vaccinated)    3696\n",
       "45-60 Years(Individuals Vaccinated)    3700\n",
       "60+ Years(Individuals Vaccinated)      3684\n",
       "Male(Individuals Vaccinated)            159\n",
       "Female(Individuals Vaccinated)          159\n",
       "Transgender(Individuals Vaccinated)     156\n",
       "Total Individuals Vaccinated           5676\n",
       "dtype: int64"
      ]
     },
     "execution_count": 7,
     "metadata": {},
     "output_type": "execute_result"
    }
   ],
   "source": [
    "df.nunique()"
   ]
  },
  {
   "cell_type": "code",
   "execution_count": 11,
   "id": "09daa559-279c-408e-9729-f80ffca59a4e",
   "metadata": {},
   "outputs": [
    {
     "name": "stdout",
     "output_type": "stream",
     "text": [
      "            State  First Dose Administered\n",
      "0           India                  48276.0\n",
      "1           India                  58604.0\n",
      "2           India                  99449.0\n",
      "3           India                 195525.0\n",
      "4           India                 251280.0\n",
      "...           ...                      ...\n",
      "7840  West Bengal                      NaN\n",
      "7841  West Bengal                      NaN\n",
      "7842  West Bengal                      NaN\n",
      "7843  West Bengal                      NaN\n",
      "7844  West Bengal                      NaN\n",
      "\n",
      "[7845 rows x 2 columns]\n"
     ]
    }
   ],
   "source": [
    "print(df[[\"State\", \"First Dose Administered\"]])"
   ]
  },
  {
   "cell_type": "code",
   "execution_count": 12,
   "id": "b7f471a7-b46b-4391-a5bb-6697d0b2cd34",
   "metadata": {},
   "outputs": [
    {
     "data": {
      "text/plain": [
       "array(['India', 'Andaman and Nicobar Islands', 'Andhra Pradesh',\n",
       "       'Arunachal Pradesh', 'Assam', 'Bihar', 'Chandigarh',\n",
       "       'Chhattisgarh', 'Dadra and Nagar Haveli and Daman and Diu',\n",
       "       'Delhi', 'Goa', 'Gujarat', 'Haryana', 'Himachal Pradesh',\n",
       "       'Jammu and Kashmir', 'Jharkhand', 'Karnataka', 'Kerala', 'Ladakh',\n",
       "       'Lakshadweep', 'Madhya Pradesh', 'Maharashtra', 'Manipur',\n",
       "       'Meghalaya', 'Mizoram', 'Nagaland', 'Odisha', 'Puducherry',\n",
       "       'Punjab', 'Rajasthan', 'Sikkim', 'Tamil Nadu', 'Telangana',\n",
       "       'Tripura', 'Uttar Pradesh', 'Uttarakhand', 'West Bengal'],\n",
       "      dtype=object)"
      ]
     },
     "execution_count": 12,
     "metadata": {},
     "output_type": "execute_result"
    }
   ],
   "source": [
    "df[\"State\"].unique()"
   ]
  },
  {
   "cell_type": "code",
   "execution_count": 15,
   "id": "7988abcc-59d8-4453-82e1-a29e3327e31c",
   "metadata": {},
   "outputs": [
    {
     "ename": "IntCastingNaNError",
     "evalue": "Cannot convert non-finite values (NA or inf) to integer",
     "output_type": "error",
     "traceback": [
      "\u001b[1;31m---------------------------------------------------------------------------\u001b[0m",
      "\u001b[1;31mIntCastingNaNError\u001b[0m                        Traceback (most recent call last)",
      "Cell \u001b[1;32mIn[15], line 1\u001b[0m\n\u001b[1;32m----> 1\u001b[0m df[\u001b[38;5;124m\"\u001b[39m\u001b[38;5;124mFirst Dose Administered\u001b[39m\u001b[38;5;124m\"\u001b[39m] \u001b[38;5;241m=\u001b[39m \u001b[43mdf\u001b[49m\u001b[43m[\u001b[49m\u001b[38;5;124;43m\"\u001b[39;49m\u001b[38;5;124;43mFirst Dose Administered\u001b[39;49m\u001b[38;5;124;43m\"\u001b[39;49m\u001b[43m]\u001b[49m\u001b[38;5;241;43m.\u001b[39;49m\u001b[43mastype\u001b[49m\u001b[43m(\u001b[49m\u001b[38;5;124;43m\"\u001b[39;49m\u001b[38;5;124;43mint64\u001b[39;49m\u001b[38;5;124;43m\"\u001b[39;49m\u001b[43m)\u001b[49m\n\u001b[0;32m      2\u001b[0m df[\u001b[38;5;124m\"\u001b[39m\u001b[38;5;124mSecond Dose Administered\u001b[39m\u001b[38;5;124m\"\u001b[39m] \u001b[38;5;241m=\u001b[39m df[\u001b[38;5;124m\"\u001b[39m\u001b[38;5;124mSecond Dose Administered\u001b[39m\u001b[38;5;124m\"\u001b[39m]\u001b[38;5;241m.\u001b[39mastype(\u001b[38;5;124m\"\u001b[39m\u001b[38;5;124mint64\u001b[39m\u001b[38;5;124m\"\u001b[39m)\n\u001b[0;32m      3\u001b[0m df[\u001b[38;5;124m\"\u001b[39m\u001b[38;5;124mTotal Doses Administered\u001b[39m\u001b[38;5;124m\"\u001b[39m] \u001b[38;5;241m=\u001b[39m df[\u001b[38;5;124m\"\u001b[39m\u001b[38;5;124mTotal Doses Administered\u001b[39m\u001b[38;5;124m\"\u001b[39m]\u001b[38;5;241m.\u001b[39mastype(\u001b[38;5;124m\"\u001b[39m\u001b[38;5;124mint64\u001b[39m\u001b[38;5;124m\"\u001b[39m)\n",
      "File \u001b[1;32m~\\AppData\\Local\\Programs\\Python\\Python312\\Lib\\site-packages\\pandas\\core\\generic.py:6534\u001b[0m, in \u001b[0;36mNDFrame.astype\u001b[1;34m(self, dtype, copy, errors)\u001b[0m\n\u001b[0;32m   6530\u001b[0m     results \u001b[38;5;241m=\u001b[39m [ser\u001b[38;5;241m.\u001b[39mastype(dtype, copy\u001b[38;5;241m=\u001b[39mcopy) \u001b[38;5;28;01mfor\u001b[39;00m _, ser \u001b[38;5;129;01min\u001b[39;00m \u001b[38;5;28mself\u001b[39m\u001b[38;5;241m.\u001b[39mitems()]\n\u001b[0;32m   6532\u001b[0m \u001b[38;5;28;01melse\u001b[39;00m:\n\u001b[0;32m   6533\u001b[0m     \u001b[38;5;66;03m# else, only a single dtype is given\u001b[39;00m\n\u001b[1;32m-> 6534\u001b[0m     new_data \u001b[38;5;241m=\u001b[39m \u001b[38;5;28;43mself\u001b[39;49m\u001b[38;5;241;43m.\u001b[39;49m\u001b[43m_mgr\u001b[49m\u001b[38;5;241;43m.\u001b[39;49m\u001b[43mastype\u001b[49m\u001b[43m(\u001b[49m\u001b[43mdtype\u001b[49m\u001b[38;5;241;43m=\u001b[39;49m\u001b[43mdtype\u001b[49m\u001b[43m,\u001b[49m\u001b[43m \u001b[49m\u001b[43mcopy\u001b[49m\u001b[38;5;241;43m=\u001b[39;49m\u001b[43mcopy\u001b[49m\u001b[43m,\u001b[49m\u001b[43m \u001b[49m\u001b[43merrors\u001b[49m\u001b[38;5;241;43m=\u001b[39;49m\u001b[43merrors\u001b[49m\u001b[43m)\u001b[49m\n\u001b[0;32m   6535\u001b[0m     res \u001b[38;5;241m=\u001b[39m \u001b[38;5;28mself\u001b[39m\u001b[38;5;241m.\u001b[39m_constructor_from_mgr(new_data, axes\u001b[38;5;241m=\u001b[39mnew_data\u001b[38;5;241m.\u001b[39maxes)\n\u001b[0;32m   6536\u001b[0m     \u001b[38;5;28;01mreturn\u001b[39;00m res\u001b[38;5;241m.\u001b[39m__finalize__(\u001b[38;5;28mself\u001b[39m, method\u001b[38;5;241m=\u001b[39m\u001b[38;5;124m\"\u001b[39m\u001b[38;5;124mastype\u001b[39m\u001b[38;5;124m\"\u001b[39m)\n",
      "File \u001b[1;32m~\\AppData\\Local\\Programs\\Python\\Python312\\Lib\\site-packages\\pandas\\core\\internals\\managers.py:414\u001b[0m, in \u001b[0;36mBaseBlockManager.astype\u001b[1;34m(self, dtype, copy, errors)\u001b[0m\n\u001b[0;32m    411\u001b[0m \u001b[38;5;28;01melif\u001b[39;00m using_copy_on_write():\n\u001b[0;32m    412\u001b[0m     copy \u001b[38;5;241m=\u001b[39m \u001b[38;5;28;01mFalse\u001b[39;00m\n\u001b[1;32m--> 414\u001b[0m \u001b[38;5;28;01mreturn\u001b[39;00m \u001b[38;5;28;43mself\u001b[39;49m\u001b[38;5;241;43m.\u001b[39;49m\u001b[43mapply\u001b[49m\u001b[43m(\u001b[49m\n\u001b[0;32m    415\u001b[0m \u001b[43m    \u001b[49m\u001b[38;5;124;43m\"\u001b[39;49m\u001b[38;5;124;43mastype\u001b[39;49m\u001b[38;5;124;43m\"\u001b[39;49m\u001b[43m,\u001b[49m\n\u001b[0;32m    416\u001b[0m \u001b[43m    \u001b[49m\u001b[43mdtype\u001b[49m\u001b[38;5;241;43m=\u001b[39;49m\u001b[43mdtype\u001b[49m\u001b[43m,\u001b[49m\n\u001b[0;32m    417\u001b[0m \u001b[43m    \u001b[49m\u001b[43mcopy\u001b[49m\u001b[38;5;241;43m=\u001b[39;49m\u001b[43mcopy\u001b[49m\u001b[43m,\u001b[49m\n\u001b[0;32m    418\u001b[0m \u001b[43m    \u001b[49m\u001b[43merrors\u001b[49m\u001b[38;5;241;43m=\u001b[39;49m\u001b[43merrors\u001b[49m\u001b[43m,\u001b[49m\n\u001b[0;32m    419\u001b[0m \u001b[43m    \u001b[49m\u001b[43musing_cow\u001b[49m\u001b[38;5;241;43m=\u001b[39;49m\u001b[43musing_copy_on_write\u001b[49m\u001b[43m(\u001b[49m\u001b[43m)\u001b[49m\u001b[43m,\u001b[49m\n\u001b[0;32m    420\u001b[0m \u001b[43m\u001b[49m\u001b[43m)\u001b[49m\n",
      "File \u001b[1;32m~\\AppData\\Local\\Programs\\Python\\Python312\\Lib\\site-packages\\pandas\\core\\internals\\managers.py:354\u001b[0m, in \u001b[0;36mBaseBlockManager.apply\u001b[1;34m(self, f, align_keys, **kwargs)\u001b[0m\n\u001b[0;32m    352\u001b[0m         applied \u001b[38;5;241m=\u001b[39m b\u001b[38;5;241m.\u001b[39mapply(f, \u001b[38;5;241m*\u001b[39m\u001b[38;5;241m*\u001b[39mkwargs)\n\u001b[0;32m    353\u001b[0m     \u001b[38;5;28;01melse\u001b[39;00m:\n\u001b[1;32m--> 354\u001b[0m         applied \u001b[38;5;241m=\u001b[39m \u001b[38;5;28;43mgetattr\u001b[39;49m\u001b[43m(\u001b[49m\u001b[43mb\u001b[49m\u001b[43m,\u001b[49m\u001b[43m \u001b[49m\u001b[43mf\u001b[49m\u001b[43m)\u001b[49m\u001b[43m(\u001b[49m\u001b[38;5;241;43m*\u001b[39;49m\u001b[38;5;241;43m*\u001b[39;49m\u001b[43mkwargs\u001b[49m\u001b[43m)\u001b[49m\n\u001b[0;32m    355\u001b[0m     result_blocks \u001b[38;5;241m=\u001b[39m extend_blocks(applied, result_blocks)\n\u001b[0;32m    357\u001b[0m out \u001b[38;5;241m=\u001b[39m \u001b[38;5;28mtype\u001b[39m(\u001b[38;5;28mself\u001b[39m)\u001b[38;5;241m.\u001b[39mfrom_blocks(result_blocks, \u001b[38;5;28mself\u001b[39m\u001b[38;5;241m.\u001b[39maxes)\n",
      "File \u001b[1;32m~\\AppData\\Local\\Programs\\Python\\Python312\\Lib\\site-packages\\pandas\\core\\internals\\blocks.py:616\u001b[0m, in \u001b[0;36mBlock.astype\u001b[1;34m(self, dtype, copy, errors, using_cow)\u001b[0m\n\u001b[0;32m    596\u001b[0m \u001b[38;5;250m\u001b[39m\u001b[38;5;124;03m\"\"\"\u001b[39;00m\n\u001b[0;32m    597\u001b[0m \u001b[38;5;124;03mCoerce to the new dtype.\u001b[39;00m\n\u001b[0;32m    598\u001b[0m \n\u001b[1;32m   (...)\u001b[0m\n\u001b[0;32m    612\u001b[0m \u001b[38;5;124;03mBlock\u001b[39;00m\n\u001b[0;32m    613\u001b[0m \u001b[38;5;124;03m\"\"\"\u001b[39;00m\n\u001b[0;32m    614\u001b[0m values \u001b[38;5;241m=\u001b[39m \u001b[38;5;28mself\u001b[39m\u001b[38;5;241m.\u001b[39mvalues\n\u001b[1;32m--> 616\u001b[0m new_values \u001b[38;5;241m=\u001b[39m \u001b[43mastype_array_safe\u001b[49m\u001b[43m(\u001b[49m\u001b[43mvalues\u001b[49m\u001b[43m,\u001b[49m\u001b[43m \u001b[49m\u001b[43mdtype\u001b[49m\u001b[43m,\u001b[49m\u001b[43m \u001b[49m\u001b[43mcopy\u001b[49m\u001b[38;5;241;43m=\u001b[39;49m\u001b[43mcopy\u001b[49m\u001b[43m,\u001b[49m\u001b[43m \u001b[49m\u001b[43merrors\u001b[49m\u001b[38;5;241;43m=\u001b[39;49m\u001b[43merrors\u001b[49m\u001b[43m)\u001b[49m\n\u001b[0;32m    618\u001b[0m new_values \u001b[38;5;241m=\u001b[39m maybe_coerce_values(new_values)\n\u001b[0;32m    620\u001b[0m refs \u001b[38;5;241m=\u001b[39m \u001b[38;5;28;01mNone\u001b[39;00m\n",
      "File \u001b[1;32m~\\AppData\\Local\\Programs\\Python\\Python312\\Lib\\site-packages\\pandas\\core\\dtypes\\astype.py:238\u001b[0m, in \u001b[0;36mastype_array_safe\u001b[1;34m(values, dtype, copy, errors)\u001b[0m\n\u001b[0;32m    235\u001b[0m     dtype \u001b[38;5;241m=\u001b[39m dtype\u001b[38;5;241m.\u001b[39mnumpy_dtype\n\u001b[0;32m    237\u001b[0m \u001b[38;5;28;01mtry\u001b[39;00m:\n\u001b[1;32m--> 238\u001b[0m     new_values \u001b[38;5;241m=\u001b[39m \u001b[43mastype_array\u001b[49m\u001b[43m(\u001b[49m\u001b[43mvalues\u001b[49m\u001b[43m,\u001b[49m\u001b[43m \u001b[49m\u001b[43mdtype\u001b[49m\u001b[43m,\u001b[49m\u001b[43m \u001b[49m\u001b[43mcopy\u001b[49m\u001b[38;5;241;43m=\u001b[39;49m\u001b[43mcopy\u001b[49m\u001b[43m)\u001b[49m\n\u001b[0;32m    239\u001b[0m \u001b[38;5;28;01mexcept\u001b[39;00m (\u001b[38;5;167;01mValueError\u001b[39;00m, \u001b[38;5;167;01mTypeError\u001b[39;00m):\n\u001b[0;32m    240\u001b[0m     \u001b[38;5;66;03m# e.g. _astype_nansafe can fail on object-dtype of strings\u001b[39;00m\n\u001b[0;32m    241\u001b[0m     \u001b[38;5;66;03m#  trying to convert to float\u001b[39;00m\n\u001b[0;32m    242\u001b[0m     \u001b[38;5;28;01mif\u001b[39;00m errors \u001b[38;5;241m==\u001b[39m \u001b[38;5;124m\"\u001b[39m\u001b[38;5;124mignore\u001b[39m\u001b[38;5;124m\"\u001b[39m:\n",
      "File \u001b[1;32m~\\AppData\\Local\\Programs\\Python\\Python312\\Lib\\site-packages\\pandas\\core\\dtypes\\astype.py:183\u001b[0m, in \u001b[0;36mastype_array\u001b[1;34m(values, dtype, copy)\u001b[0m\n\u001b[0;32m    180\u001b[0m     values \u001b[38;5;241m=\u001b[39m values\u001b[38;5;241m.\u001b[39mastype(dtype, copy\u001b[38;5;241m=\u001b[39mcopy)\n\u001b[0;32m    182\u001b[0m \u001b[38;5;28;01melse\u001b[39;00m:\n\u001b[1;32m--> 183\u001b[0m     values \u001b[38;5;241m=\u001b[39m \u001b[43m_astype_nansafe\u001b[49m\u001b[43m(\u001b[49m\u001b[43mvalues\u001b[49m\u001b[43m,\u001b[49m\u001b[43m \u001b[49m\u001b[43mdtype\u001b[49m\u001b[43m,\u001b[49m\u001b[43m \u001b[49m\u001b[43mcopy\u001b[49m\u001b[38;5;241;43m=\u001b[39;49m\u001b[43mcopy\u001b[49m\u001b[43m)\u001b[49m\n\u001b[0;32m    185\u001b[0m \u001b[38;5;66;03m# in pandas we don't store numpy str dtypes, so convert to object\u001b[39;00m\n\u001b[0;32m    186\u001b[0m \u001b[38;5;28;01mif\u001b[39;00m \u001b[38;5;28misinstance\u001b[39m(dtype, np\u001b[38;5;241m.\u001b[39mdtype) \u001b[38;5;129;01mand\u001b[39;00m \u001b[38;5;28missubclass\u001b[39m(values\u001b[38;5;241m.\u001b[39mdtype\u001b[38;5;241m.\u001b[39mtype, \u001b[38;5;28mstr\u001b[39m):\n",
      "File \u001b[1;32m~\\AppData\\Local\\Programs\\Python\\Python312\\Lib\\site-packages\\pandas\\core\\dtypes\\astype.py:101\u001b[0m, in \u001b[0;36m_astype_nansafe\u001b[1;34m(arr, dtype, copy, skipna)\u001b[0m\n\u001b[0;32m     96\u001b[0m     \u001b[38;5;28;01mreturn\u001b[39;00m lib\u001b[38;5;241m.\u001b[39mensure_string_array(\n\u001b[0;32m     97\u001b[0m         arr, skipna\u001b[38;5;241m=\u001b[39mskipna, convert_na_value\u001b[38;5;241m=\u001b[39m\u001b[38;5;28;01mFalse\u001b[39;00m\n\u001b[0;32m     98\u001b[0m     )\u001b[38;5;241m.\u001b[39mreshape(shape)\n\u001b[0;32m    100\u001b[0m \u001b[38;5;28;01melif\u001b[39;00m np\u001b[38;5;241m.\u001b[39missubdtype(arr\u001b[38;5;241m.\u001b[39mdtype, np\u001b[38;5;241m.\u001b[39mfloating) \u001b[38;5;129;01mand\u001b[39;00m dtype\u001b[38;5;241m.\u001b[39mkind \u001b[38;5;129;01min\u001b[39;00m \u001b[38;5;124m\"\u001b[39m\u001b[38;5;124miu\u001b[39m\u001b[38;5;124m\"\u001b[39m:\n\u001b[1;32m--> 101\u001b[0m     \u001b[38;5;28;01mreturn\u001b[39;00m \u001b[43m_astype_float_to_int_nansafe\u001b[49m\u001b[43m(\u001b[49m\u001b[43marr\u001b[49m\u001b[43m,\u001b[49m\u001b[43m \u001b[49m\u001b[43mdtype\u001b[49m\u001b[43m,\u001b[49m\u001b[43m \u001b[49m\u001b[43mcopy\u001b[49m\u001b[43m)\u001b[49m\n\u001b[0;32m    103\u001b[0m \u001b[38;5;28;01melif\u001b[39;00m arr\u001b[38;5;241m.\u001b[39mdtype \u001b[38;5;241m==\u001b[39m \u001b[38;5;28mobject\u001b[39m:\n\u001b[0;32m    104\u001b[0m     \u001b[38;5;66;03m# if we have a datetime/timedelta array of objects\u001b[39;00m\n\u001b[0;32m    105\u001b[0m     \u001b[38;5;66;03m# then coerce to datetime64[ns] and use DatetimeArray.astype\u001b[39;00m\n\u001b[0;32m    107\u001b[0m     \u001b[38;5;28;01mif\u001b[39;00m lib\u001b[38;5;241m.\u001b[39mis_np_dtype(dtype, \u001b[38;5;124m\"\u001b[39m\u001b[38;5;124mM\u001b[39m\u001b[38;5;124m\"\u001b[39m):\n",
      "File \u001b[1;32m~\\AppData\\Local\\Programs\\Python\\Python312\\Lib\\site-packages\\pandas\\core\\dtypes\\astype.py:146\u001b[0m, in \u001b[0;36m_astype_float_to_int_nansafe\u001b[1;34m(values, dtype, copy)\u001b[0m\n\u001b[0;32m    142\u001b[0m \u001b[38;5;250m\u001b[39m\u001b[38;5;124;03m\"\"\"\u001b[39;00m\n\u001b[0;32m    143\u001b[0m \u001b[38;5;124;03mastype with a check preventing converting NaN to an meaningless integer value.\u001b[39;00m\n\u001b[0;32m    144\u001b[0m \u001b[38;5;124;03m\"\"\"\u001b[39;00m\n\u001b[0;32m    145\u001b[0m \u001b[38;5;28;01mif\u001b[39;00m \u001b[38;5;129;01mnot\u001b[39;00m np\u001b[38;5;241m.\u001b[39misfinite(values)\u001b[38;5;241m.\u001b[39mall():\n\u001b[1;32m--> 146\u001b[0m     \u001b[38;5;28;01mraise\u001b[39;00m IntCastingNaNError(\n\u001b[0;32m    147\u001b[0m         \u001b[38;5;124m\"\u001b[39m\u001b[38;5;124mCannot convert non-finite values (NA or inf) to integer\u001b[39m\u001b[38;5;124m\"\u001b[39m\n\u001b[0;32m    148\u001b[0m     )\n\u001b[0;32m    149\u001b[0m \u001b[38;5;28;01mif\u001b[39;00m dtype\u001b[38;5;241m.\u001b[39mkind \u001b[38;5;241m==\u001b[39m \u001b[38;5;124m\"\u001b[39m\u001b[38;5;124mu\u001b[39m\u001b[38;5;124m\"\u001b[39m:\n\u001b[0;32m    150\u001b[0m     \u001b[38;5;66;03m# GH#45151\u001b[39;00m\n\u001b[0;32m    151\u001b[0m     \u001b[38;5;28;01mif\u001b[39;00m \u001b[38;5;129;01mnot\u001b[39;00m (values \u001b[38;5;241m>\u001b[39m\u001b[38;5;241m=\u001b[39m \u001b[38;5;241m0\u001b[39m)\u001b[38;5;241m.\u001b[39mall():\n",
      "\u001b[1;31mIntCastingNaNError\u001b[0m: Cannot convert non-finite values (NA or inf) to integer"
     ]
    }
   ],
   "source": [
    "df[\"First Dose Administered\"] = df[\"First Dose Administered\"].astype(\"int64\")\n",
    "df[\"Second Dose Administered\"] = df[\"Second Dose Administered\"].astype(\"int64\")\n",
    "df[\"Total Doses Administered\"] = df[\"Total Doses Administered\"].astype(\"int64\")"
   ]
  },
  {
   "cell_type": "code",
   "execution_count": 16,
   "id": "1c911e3c-3b4d-41d6-a5fa-d89c6d63aacc",
   "metadata": {},
   "outputs": [],
   "source": [
    "df.fillna(0, inplace=True)"
   ]
  },
  {
   "cell_type": "code",
   "execution_count": 18,
   "id": "86510ca2-3e4d-4c37-b4d3-38ac5be73e0b",
   "metadata": {},
   "outputs": [
    {
     "data": {
      "text/plain": [
       "Updated On                             0\n",
       "State                                  0\n",
       "Total Doses Administered               0\n",
       "Sessions                               0\n",
       " Sites                                 0\n",
       "First Dose Administered                0\n",
       "Second Dose Administered               0\n",
       "Male (Doses Administered)              0\n",
       "Female (Doses Administered)            0\n",
       "Transgender (Doses Administered)       0\n",
       " Covaxin (Doses Administered)          0\n",
       "CoviShield (Doses Administered)        0\n",
       "Sputnik V (Doses Administered)         0\n",
       "AEFI                                   0\n",
       "18-44 Years (Doses Administered)       0\n",
       "45-60 Years (Doses Administered)       0\n",
       "60+ Years (Doses Administered)         0\n",
       "18-44 Years(Individuals Vaccinated)    0\n",
       "45-60 Years(Individuals Vaccinated)    0\n",
       "60+ Years(Individuals Vaccinated)      0\n",
       "Male(Individuals Vaccinated)           0\n",
       "Female(Individuals Vaccinated)         0\n",
       "Transgender(Individuals Vaccinated)    0\n",
       "Total Individuals Vaccinated           0\n",
       "dtype: int64"
      ]
     },
     "execution_count": 18,
     "metadata": {},
     "output_type": "execute_result"
    }
   ],
   "source": [
    "df.isna().sum()"
   ]
  },
  {
   "cell_type": "code",
   "execution_count": 24,
   "id": "0d3d15f8-ef9b-4ca9-82f1-7e7a8adedf3f",
   "metadata": {},
   "outputs": [
    {
     "name": "stdout",
     "output_type": "stream",
     "text": [
      "{'India': 28262144791.0, 'Andaman and Nicobar Islands': 16425854.0, 'Andhra Pradesh': 1232860845.0, 'Arunachal Pradesh': 49004980.0, 'Assam': 585600226.0, 'Bihar': 1470502878.0, 'Chandigarh': 44703105.0, 'Chhattisgarh': 796002902.0, 'Dadra and Nagar Haveli and Daman and Diu': 33595063.0, 'Delhi': 624339473.0, 'Goa': 75991368.0, 'Gujarat': 2131646009.0, 'Haryana': 755798352.0, 'Himachal Pradesh': 316294004.0, 'Jammu and Kashmir': 410101777.0, 'Jharkhand': 603673726.0, 'Karnataka': 1873329968.0, 'Kerala': 1193845072.0, 'Ladakh': 17809249.0, 'Lakshadweep': 4363655.0, 'Madhya Pradesh': 1796604591.0, 'Maharashtra': 2784364331.0, 'Manipur': 67409568.0, 'Meghalaya': 62615974.0, 'Mizoram': 47873077.0, 'Nagaland': 42410766.0, 'Odisha': 1032633168.0, 'Puducherry': 41346858.0, 'Punjab': 584346582.0, 'Rajasthan': 2201044187.0, 'Sikkim': 36980929.0, 'Tamil Nadu': 1288532512.0, 'Telangana': 880320645.0, 'Tripura': 192689726.0, 'Uttar Pradesh': 2788411358.0, 'Uttarakhand': 363191446.0, 'West Bengal': 1796449989.0}\n"
     ]
    }
   ],
   "source": [
    "dict = {}\n",
    "for i in df[\"State\"].unique():\n",
    "    dict[i] = 0;\n",
    "for j in range(df.shape[0]):\n",
    "    dict[df[\"State\"].iloc[j]] += df[\"First Dose Administered\"].iloc[j]\n",
    "print(dict)"
   ]
  },
  {
   "cell_type": "code",
   "execution_count": 23,
   "id": "01db3685-153e-460f-87c8-d83c71b12927",
   "metadata": {},
   "outputs": [
    {
     "name": "stdout",
     "output_type": "stream",
     "text": [
      "{'India': 6759621451.0, 'Andaman and Nicobar Islands': 4118554.0, 'Andhra Pradesh': 358817595.0, 'Arunachal Pradesh': 11932317.0, 'Assam': 130788792.0, 'Bihar': 270790571.0, 'Chandigarh': 11593735.0, 'Chhattisgarh': 172120400.0, 'Dadra and Nagar Haveli and Daman and Diu': 4594416.0, 'Delhi': 188218946.0, 'Goa': 16198174.0, 'Gujarat': 600418376.0, 'Haryana': 158656058.0, 'Himachal Pradesh': 73838582.0, 'Jammu and Kashmir': 85951651.0, 'Jharkhand': 122121060.0, 'Karnataka': 427187178.0, 'Kerala': 364048753.0, 'Ladakh': 5453762.0, 'Lakshadweep': 1056446.0, 'Madhya Pradesh': 316932957.0, 'Maharashtra': 712881086.0, 'Manipur': 11858150.0, 'Meghalaya': 12166633.0, 'Mizoram': 9998418.0, 'Nagaland': 9204637.0, 'Odisha': 251302794.0, 'Puducherry': 8608859.0, 'Punjab': 121120995.0, 'Rajasthan': 491702988.0, 'Sikkim': 9723640.0, 'Tamil Nadu': 290670622.0, 'Telangana': 198152946.0, 'Tripura': 65270138.0, 'Uttar Pradesh': 554435112.0, 'Uttarakhand': 100085040.0, 'West Bengal': 586146880.0}\n"
     ]
    }
   ],
   "source": [
    "dict1 = {}\n",
    "for i in df[\"State\"].unique():\n",
    "    dict1[i] = 0;\n",
    "for j in range(df.shape[0]):\n",
    "    dict1[df[\"State\"].iloc[j]] += df[\"Second Dose Administered\"].iloc[j]\n",
    "print(dict1)"
   ]
  },
  {
   "cell_type": "code",
   "execution_count": 25,
   "id": "8a5170f4-87fe-4705-9ec5-81f371d4130c",
   "metadata": {},
   "outputs": [
    {
     "name": "stdout",
     "output_type": "stream",
     "text": [
      "{'India': 35021766242.0, 'Andaman and Nicobar Islands': 20544408.0, 'Andhra Pradesh': 1591678440.0, 'Arunachal Pradesh': 60937297.0, 'Assam': 716389018.0, 'Bihar': 1741293449.0, 'Chandigarh': 56296840.0, 'Chhattisgarh': 968123302.0, 'Dadra and Nagar Haveli and Daman and Diu': 38189479.0, 'Delhi': 812558419.0, 'Goa': 92189542.0, 'Gujarat': 2732064385.0, 'Haryana': 914454410.0, 'Himachal Pradesh': 390132586.0, 'Jammu and Kashmir': 496053428.0, 'Jharkhand': 725794786.0, 'Karnataka': 2300517146.0, 'Kerala': 1557893825.0, 'Ladakh': 23263011.0, 'Lakshadweep': 5420101.0, 'Madhya Pradesh': 2113537548.0, 'Maharashtra': 3497245417.0, 'Manipur': 79267718.0, 'Meghalaya': 74782607.0, 'Mizoram': 57871495.0, 'Nagaland': 51615403.0, 'Odisha': 1283935962.0, 'Puducherry': 49955717.0, 'Punjab': 705467577.0, 'Rajasthan': 2692747175.0, 'Sikkim': 46704569.0, 'Tamil Nadu': 1579203134.0, 'Telangana': 1078473591.0, 'Tripura': 257959864.0, 'Uttar Pradesh': 3342846470.0, 'Uttarakhand': 463276486.0, 'West Bengal': 2382596869.0}\n"
     ]
    }
   ],
   "source": [
    "dict2 = {}\n",
    "for i in df[\"State\"].unique():\n",
    "    dict2[i] = 0;\n",
    "for j in range(df.shape[0]):\n",
    "    dict2[df[\"State\"].iloc[j]] += df[\"Total Doses Administered\"].iloc[j]\n",
    "print(dict2)"
   ]
  },
  {
   "cell_type": "code",
   "execution_count": null,
   "id": "5458ef49-c66f-4d0c-992f-0f7bc3d434f0",
   "metadata": {},
   "outputs": [],
   "source": []
  }
 ],
 "metadata": {
  "kernelspec": {
   "display_name": "Python 3 (ipykernel)",
   "language": "python",
   "name": "python3"
  },
  "language_info": {
   "codemirror_mode": {
    "name": "ipython",
    "version": 3
   },
   "file_extension": ".py",
   "mimetype": "text/x-python",
   "name": "python",
   "nbconvert_exporter": "python",
   "pygments_lexer": "ipython3",
   "version": "3.12.0"
  }
 },
 "nbformat": 4,
 "nbformat_minor": 5
}
