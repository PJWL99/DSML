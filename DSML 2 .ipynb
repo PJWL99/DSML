{
 "cells": [
  {
   "cell_type": "code",
   "execution_count": 1,
   "id": "24443380-d94d-45aa-82d6-8941bb8a0e7a",
   "metadata": {},
   "outputs": [],
   "source": [
    "import pandas as pd\n"
   ]
  },
  {
   "cell_type": "code",
   "execution_count": 2,
   "id": "da85a731-ffe6-4a9e-b394-5cb9e1eec2ad",
   "metadata": {},
   "outputs": [],
   "source": [
    "df = pd.read_csv(\"C:\\\\Users\\\\Prajwal Mahajan\\\\Downloads\\\\churn 20.csv\")"
   ]
  },
  {
   "cell_type": "code",
   "execution_count": 27,
   "id": "9c506e05-af02-43fd-b4e2-eb99ce3534f0",
   "metadata": {},
   "outputs": [
    {
     "name": "stdout",
     "output_type": "stream",
     "text": [
      "     Account length  Area code  Number vmail messages  Total day minutes  \\\n",
      "0               117        408                      0              184.5   \n",
      "1                65        415                      0              129.1   \n",
      "2               161        415                      0              332.9   \n",
      "3               111        415                      0              110.4   \n",
      "4                49        510                      0              119.3   \n",
      "..              ...        ...                    ...                ...   \n",
      "662             114        415                     26              137.1   \n",
      "663             106        408                     29               83.6   \n",
      "664              60        415                      0              193.9   \n",
      "665             159        415                      0              169.8   \n",
      "666             184        510                      0              213.8   \n",
      "\n",
      "     Total day calls  Total day charge  Total eve minutes  Total eve calls  \\\n",
      "0                 97             31.37              351.6               80   \n",
      "1                137             21.95              228.5               83   \n",
      "2                 67             56.59              317.8               97   \n",
      "3                103             18.77              137.3              102   \n",
      "4                117             20.28              215.1              109   \n",
      "..               ...               ...                ...              ...   \n",
      "662               88             23.31              155.7              125   \n",
      "663              131             14.21              203.9              131   \n",
      "664              118             32.96               85.0              110   \n",
      "665              114             28.87              197.7              105   \n",
      "666              105             36.35              159.6               84   \n",
      "\n",
      "     Total eve charge  Total night minutes  Total night calls  \\\n",
      "0               29.89                215.8                 90   \n",
      "1               19.42                208.8                111   \n",
      "2               27.01                160.6                128   \n",
      "3               11.67                189.6                105   \n",
      "4               18.28                178.7                 90   \n",
      "..                ...                  ...                ...   \n",
      "662             13.23                247.6                 94   \n",
      "663             17.33                229.5                 73   \n",
      "664              7.23                210.1                134   \n",
      "665             16.80                193.7                 82   \n",
      "666             13.57                139.2                137   \n",
      "\n",
      "     Total night charge  Total intl minutes  Total intl calls  \\\n",
      "0                  9.71                 8.7                 4   \n",
      "1                  9.40                12.7                 6   \n",
      "2                  7.23                 5.4                 9   \n",
      "3                  8.53                 7.7                 6   \n",
      "4                  8.04                11.1                 1   \n",
      "..                  ...                 ...               ...   \n",
      "662               11.14                11.5                 7   \n",
      "663               10.33                 8.1                 3   \n",
      "664                9.45                13.2                 8   \n",
      "665                8.72                11.6                 4   \n",
      "666                6.26                 5.0                10   \n",
      "\n",
      "     Total intl charge  Customer service calls  Churn  \n",
      "0                 2.35                       1  False  \n",
      "1                 3.43                       4   True  \n",
      "2                 1.46                       4   True  \n",
      "3                 2.08                       2  False  \n",
      "4                 3.00                       1  False  \n",
      "..                 ...                     ...    ...  \n",
      "662               3.11                       2  False  \n",
      "663               2.19                       1  False  \n",
      "664               3.56                       3  False  \n",
      "665               3.13                       1  False  \n",
      "666               1.35                       2  False  \n",
      "\n",
      "[667 rows x 17 columns]\n"
     ]
    }
   ],
   "source": [
    "new = df.select_dtypes(exclude=\"object\")\n",
    "print(new)"
   ]
  },
  {
   "cell_type": "code",
   "execution_count": null,
   "id": "307f5ec4-02b4-4b9f-add0-c72589d2d730",
   "metadata": {},
   "outputs": [],
   "source": []
  },
  {
   "cell_type": "code",
   "execution_count": 7,
   "id": "39b2e9ee-55a8-499b-879a-7e7a0067d83b",
   "metadata": {},
   "outputs": [
    {
     "ename": "TypeError",
     "evalue": "'int' object is not callable",
     "output_type": "error",
     "traceback": [
      "\u001b[1;31m---------------------------------------------------------------------------\u001b[0m",
      "\u001b[1;31mTypeError\u001b[0m                                 Traceback (most recent call last)",
      "Cell \u001b[1;32mIn[7], line 1\u001b[0m\n\u001b[1;32m----> 1\u001b[0m \u001b[43mdf\u001b[49m\u001b[38;5;241;43m.\u001b[39;49m\u001b[43msize\u001b[49m\u001b[43m(\u001b[49m\u001b[43m)\u001b[49m\n",
      "\u001b[1;31mTypeError\u001b[0m: 'int' object is not callable"
     ]
    }
   ],
   "source": [
    "df.size()"
   ]
  },
  {
   "cell_type": "code",
   "execution_count": 8,
   "id": "f7569765-fa95-4f9f-9c81-90f4a92ddac5",
   "metadata": {},
   "outputs": [
    {
     "data": {
      "text/plain": [
       "11339"
      ]
     },
     "execution_count": 8,
     "metadata": {},
     "output_type": "execute_result"
    }
   ],
   "source": [
    "new.size"
   ]
  },
  {
   "cell_type": "code",
   "execution_count": 9,
   "id": "9f3859e2-7d4f-4fd3-ab95-2f6dbc90f27e",
   "metadata": {},
   "outputs": [
    {
     "data": {
      "text/plain": [
       "2"
      ]
     },
     "execution_count": 9,
     "metadata": {},
     "output_type": "execute_result"
    }
   ],
   "source": [
    "new.ndim"
   ]
  },
  {
   "cell_type": "code",
   "execution_count": 10,
   "id": "f104ff2d-2e13-4f76-955e-b04fd4d8ff05",
   "metadata": {},
   "outputs": [
    {
     "data": {
      "text/plain": [
       "(667, 17)"
      ]
     },
     "execution_count": 10,
     "metadata": {},
     "output_type": "execute_result"
    }
   ],
   "source": [
    "new.shape"
   ]
  },
  {
   "cell_type": "code",
   "execution_count": 11,
   "id": "cc1e60ed-8726-4cdc-ae78-e6f815944546",
   "metadata": {},
   "outputs": [
    {
     "data": {
      "text/plain": [
       "Account length                1\n",
       "Area code                   408\n",
       "Number vmail messages         0\n",
       "Total day minutes          25.9\n",
       "Total day calls              30\n",
       "Total day charge            4.4\n",
       "Total eve minutes          48.1\n",
       "Total eve calls              37\n",
       "Total eve charge           4.09\n",
       "Total night minutes        23.2\n",
       "Total night calls            42\n",
       "Total night charge         1.04\n",
       "Total intl minutes          0.0\n",
       "Total intl calls              0\n",
       "Total intl charge           0.0\n",
       "Customer service calls        0\n",
       "Churn                     False\n",
       "dtype: object"
      ]
     },
     "execution_count": 11,
     "metadata": {},
     "output_type": "execute_result"
    }
   ],
   "source": [
    "new.min()"
   ]
  },
  {
   "cell_type": "code",
   "execution_count": 12,
   "id": "e5aef534-e73d-4f8c-bb67-367fac713458",
   "metadata": {},
   "outputs": [
    {
     "data": {
      "text/html": [
       "<div>\n",
       "<style scoped>\n",
       "    .dataframe tbody tr th:only-of-type {\n",
       "        vertical-align: middle;\n",
       "    }\n",
       "\n",
       "    .dataframe tbody tr th {\n",
       "        vertical-align: top;\n",
       "    }\n",
       "\n",
       "    .dataframe thead th {\n",
       "        text-align: right;\n",
       "    }\n",
       "</style>\n",
       "<table border=\"1\" class=\"dataframe\">\n",
       "  <thead>\n",
       "    <tr style=\"text-align: right;\">\n",
       "      <th></th>\n",
       "      <th>Account length</th>\n",
       "      <th>Area code</th>\n",
       "      <th>Number vmail messages</th>\n",
       "      <th>Total day minutes</th>\n",
       "      <th>Total day calls</th>\n",
       "      <th>Total day charge</th>\n",
       "      <th>Total eve minutes</th>\n",
       "      <th>Total eve calls</th>\n",
       "      <th>Total eve charge</th>\n",
       "      <th>Total night minutes</th>\n",
       "      <th>Total night calls</th>\n",
       "      <th>Total night charge</th>\n",
       "      <th>Total intl minutes</th>\n",
       "      <th>Total intl calls</th>\n",
       "      <th>Total intl charge</th>\n",
       "      <th>Customer service calls</th>\n",
       "    </tr>\n",
       "  </thead>\n",
       "  <tbody>\n",
       "    <tr>\n",
       "      <th>count</th>\n",
       "      <td>667.000000</td>\n",
       "      <td>667.000000</td>\n",
       "      <td>667.000000</td>\n",
       "      <td>667.000000</td>\n",
       "      <td>667.000000</td>\n",
       "      <td>667.000000</td>\n",
       "      <td>667.000000</td>\n",
       "      <td>667.000000</td>\n",
       "      <td>667.000000</td>\n",
       "      <td>667.000000</td>\n",
       "      <td>667.000000</td>\n",
       "      <td>667.000000</td>\n",
       "      <td>667.000000</td>\n",
       "      <td>667.000000</td>\n",
       "      <td>667.000000</td>\n",
       "      <td>667.000000</td>\n",
       "    </tr>\n",
       "    <tr>\n",
       "      <th>mean</th>\n",
       "      <td>102.841079</td>\n",
       "      <td>436.157421</td>\n",
       "      <td>8.407796</td>\n",
       "      <td>180.948126</td>\n",
       "      <td>100.937031</td>\n",
       "      <td>30.761769</td>\n",
       "      <td>203.355322</td>\n",
       "      <td>100.476762</td>\n",
       "      <td>17.285262</td>\n",
       "      <td>199.685307</td>\n",
       "      <td>100.113943</td>\n",
       "      <td>8.985907</td>\n",
       "      <td>10.238381</td>\n",
       "      <td>4.527736</td>\n",
       "      <td>2.764948</td>\n",
       "      <td>1.563718</td>\n",
       "    </tr>\n",
       "    <tr>\n",
       "      <th>std</th>\n",
       "      <td>40.819480</td>\n",
       "      <td>41.783305</td>\n",
       "      <td>13.994480</td>\n",
       "      <td>55.508628</td>\n",
       "      <td>20.396790</td>\n",
       "      <td>9.436463</td>\n",
       "      <td>49.719268</td>\n",
       "      <td>18.948262</td>\n",
       "      <td>4.226160</td>\n",
       "      <td>49.759931</td>\n",
       "      <td>20.172505</td>\n",
       "      <td>2.239429</td>\n",
       "      <td>2.807850</td>\n",
       "      <td>2.482442</td>\n",
       "      <td>0.758167</td>\n",
       "      <td>1.333357</td>\n",
       "    </tr>\n",
       "    <tr>\n",
       "      <th>min</th>\n",
       "      <td>1.000000</td>\n",
       "      <td>408.000000</td>\n",
       "      <td>0.000000</td>\n",
       "      <td>25.900000</td>\n",
       "      <td>30.000000</td>\n",
       "      <td>4.400000</td>\n",
       "      <td>48.100000</td>\n",
       "      <td>37.000000</td>\n",
       "      <td>4.090000</td>\n",
       "      <td>23.200000</td>\n",
       "      <td>42.000000</td>\n",
       "      <td>1.040000</td>\n",
       "      <td>0.000000</td>\n",
       "      <td>0.000000</td>\n",
       "      <td>0.000000</td>\n",
       "      <td>0.000000</td>\n",
       "    </tr>\n",
       "    <tr>\n",
       "      <th>25%</th>\n",
       "      <td>76.000000</td>\n",
       "      <td>408.000000</td>\n",
       "      <td>0.000000</td>\n",
       "      <td>146.250000</td>\n",
       "      <td>87.500000</td>\n",
       "      <td>24.860000</td>\n",
       "      <td>171.050000</td>\n",
       "      <td>88.000000</td>\n",
       "      <td>14.540000</td>\n",
       "      <td>167.950000</td>\n",
       "      <td>86.000000</td>\n",
       "      <td>7.560000</td>\n",
       "      <td>8.600000</td>\n",
       "      <td>3.000000</td>\n",
       "      <td>2.320000</td>\n",
       "      <td>1.000000</td>\n",
       "    </tr>\n",
       "    <tr>\n",
       "      <th>50%</th>\n",
       "      <td>102.000000</td>\n",
       "      <td>415.000000</td>\n",
       "      <td>0.000000</td>\n",
       "      <td>178.300000</td>\n",
       "      <td>101.000000</td>\n",
       "      <td>30.310000</td>\n",
       "      <td>203.700000</td>\n",
       "      <td>101.000000</td>\n",
       "      <td>17.310000</td>\n",
       "      <td>201.600000</td>\n",
       "      <td>100.000000</td>\n",
       "      <td>9.070000</td>\n",
       "      <td>10.500000</td>\n",
       "      <td>4.000000</td>\n",
       "      <td>2.840000</td>\n",
       "      <td>1.000000</td>\n",
       "    </tr>\n",
       "    <tr>\n",
       "      <th>75%</th>\n",
       "      <td>128.000000</td>\n",
       "      <td>415.000000</td>\n",
       "      <td>20.000000</td>\n",
       "      <td>220.700000</td>\n",
       "      <td>115.000000</td>\n",
       "      <td>37.520000</td>\n",
       "      <td>236.450000</td>\n",
       "      <td>113.000000</td>\n",
       "      <td>20.095000</td>\n",
       "      <td>231.500000</td>\n",
       "      <td>113.500000</td>\n",
       "      <td>10.420000</td>\n",
       "      <td>12.050000</td>\n",
       "      <td>6.000000</td>\n",
       "      <td>3.255000</td>\n",
       "      <td>2.000000</td>\n",
       "    </tr>\n",
       "    <tr>\n",
       "      <th>max</th>\n",
       "      <td>232.000000</td>\n",
       "      <td>510.000000</td>\n",
       "      <td>51.000000</td>\n",
       "      <td>334.300000</td>\n",
       "      <td>165.000000</td>\n",
       "      <td>56.830000</td>\n",
       "      <td>361.800000</td>\n",
       "      <td>168.000000</td>\n",
       "      <td>30.750000</td>\n",
       "      <td>367.700000</td>\n",
       "      <td>175.000000</td>\n",
       "      <td>16.550000</td>\n",
       "      <td>18.300000</td>\n",
       "      <td>18.000000</td>\n",
       "      <td>4.940000</td>\n",
       "      <td>8.000000</td>\n",
       "    </tr>\n",
       "  </tbody>\n",
       "</table>\n",
       "</div>"
      ],
      "text/plain": [
       "       Account length   Area code  Number vmail messages  Total day minutes  \\\n",
       "count      667.000000  667.000000             667.000000         667.000000   \n",
       "mean       102.841079  436.157421               8.407796         180.948126   \n",
       "std         40.819480   41.783305              13.994480          55.508628   \n",
       "min          1.000000  408.000000               0.000000          25.900000   \n",
       "25%         76.000000  408.000000               0.000000         146.250000   \n",
       "50%        102.000000  415.000000               0.000000         178.300000   \n",
       "75%        128.000000  415.000000              20.000000         220.700000   \n",
       "max        232.000000  510.000000              51.000000         334.300000   \n",
       "\n",
       "       Total day calls  Total day charge  Total eve minutes  Total eve calls  \\\n",
       "count       667.000000        667.000000         667.000000       667.000000   \n",
       "mean        100.937031         30.761769         203.355322       100.476762   \n",
       "std          20.396790          9.436463          49.719268        18.948262   \n",
       "min          30.000000          4.400000          48.100000        37.000000   \n",
       "25%          87.500000         24.860000         171.050000        88.000000   \n",
       "50%         101.000000         30.310000         203.700000       101.000000   \n",
       "75%         115.000000         37.520000         236.450000       113.000000   \n",
       "max         165.000000         56.830000         361.800000       168.000000   \n",
       "\n",
       "       Total eve charge  Total night minutes  Total night calls  \\\n",
       "count        667.000000           667.000000         667.000000   \n",
       "mean          17.285262           199.685307         100.113943   \n",
       "std            4.226160            49.759931          20.172505   \n",
       "min            4.090000            23.200000          42.000000   \n",
       "25%           14.540000           167.950000          86.000000   \n",
       "50%           17.310000           201.600000         100.000000   \n",
       "75%           20.095000           231.500000         113.500000   \n",
       "max           30.750000           367.700000         175.000000   \n",
       "\n",
       "       Total night charge  Total intl minutes  Total intl calls  \\\n",
       "count          667.000000          667.000000        667.000000   \n",
       "mean             8.985907           10.238381          4.527736   \n",
       "std              2.239429            2.807850          2.482442   \n",
       "min              1.040000            0.000000          0.000000   \n",
       "25%              7.560000            8.600000          3.000000   \n",
       "50%              9.070000           10.500000          4.000000   \n",
       "75%             10.420000           12.050000          6.000000   \n",
       "max             16.550000           18.300000         18.000000   \n",
       "\n",
       "       Total intl charge  Customer service calls  \n",
       "count         667.000000              667.000000  \n",
       "mean            2.764948                1.563718  \n",
       "std             0.758167                1.333357  \n",
       "min             0.000000                0.000000  \n",
       "25%             2.320000                1.000000  \n",
       "50%             2.840000                1.000000  \n",
       "75%             3.255000                2.000000  \n",
       "max             4.940000                8.000000  "
      ]
     },
     "execution_count": 12,
     "metadata": {},
     "output_type": "execute_result"
    }
   ],
   "source": [
    "df.describe()"
   ]
  },
  {
   "cell_type": "code",
   "execution_count": 13,
   "id": "5ce3dba1-854b-4fd1-9820-beb8b2a7e542",
   "metadata": {},
   "outputs": [
    {
     "data": {
      "text/plain": [
       "Account length    102.841079\n",
       "Area code         436.157421\n",
       "dtype: float64"
      ]
     },
     "execution_count": 13,
     "metadata": {},
     "output_type": "execute_result"
    }
   ],
   "source": [
    "new.mean()"
   ]
  },
  {
   "cell_type": "code",
   "execution_count": 14,
   "id": "effa8052-3636-481b-9a16-da369f5cdf06",
   "metadata": {},
   "outputs": [
    {
     "data": {
      "text/plain": [
       "Account length    102.0\n",
       "Area code         415.0\n",
       "dtype: float64"
      ]
     },
     "execution_count": 14,
     "metadata": {},
     "output_type": "execute_result"
    }
   ],
   "source": [
    "new.median()"
   ]
  },
  {
   "cell_type": "code",
   "execution_count": 15,
   "id": "76db2fc8-29c6-41c5-8a09-a1889c93b125",
   "metadata": {},
   "outputs": [
    {
     "data": {
      "text/plain": [
       "Account length      1\n",
       "Area code         408\n",
       "dtype: int64"
      ]
     },
     "execution_count": 15,
     "metadata": {},
     "output_type": "execute_result"
    }
   ],
   "source": [
    "new.min()"
   ]
  },
  {
   "cell_type": "code",
   "execution_count": 16,
   "id": "ec91b102-a9d8-40a5-b4fb-3adf00ae33f1",
   "metadata": {},
   "outputs": [
    {
     "data": {
      "text/plain": [
       "Account length    232\n",
       "Area code         510\n",
       "dtype: int64"
      ]
     },
     "execution_count": 16,
     "metadata": {},
     "output_type": "execute_result"
    }
   ],
   "source": [
    "new.max()"
   ]
  },
  {
   "cell_type": "code",
   "execution_count": 17,
   "id": "f60481fd-e59a-4652-8df2-ce6502f9e7bc",
   "metadata": {},
   "outputs": [
    {
     "data": {
      "text/plain": [
       "1"
      ]
     },
     "execution_count": 17,
     "metadata": {},
     "output_type": "execute_result"
    }
   ],
   "source": [
    "new.min()"
   ]
  },
  {
   "cell_type": "code",
   "execution_count": 18,
   "id": "1a80fafd-506d-4ad4-976f-c594b332b382",
   "metadata": {},
   "outputs": [
    {
     "data": {
      "text/plain": [
       "Account length    40.819480\n",
       "Area code         41.783305\n",
       "dtype: float64"
      ]
     },
     "execution_count": 18,
     "metadata": {},
     "output_type": "execute_result"
    }
   ],
   "source": [
    "new.std()"
   ]
  },
  {
   "cell_type": "code",
   "execution_count": 21,
   "id": "1a322892-3f77-414e-868f-be6b7879dcd1",
   "metadata": {},
   "outputs": [
    {
     "data": {
      "text/plain": [
       "Account length            1666.229962\n",
       "Area code                 1745.844551\n",
       "Number vmail messages      195.845465\n",
       "Total day minutes         3081.207755\n",
       "Total day calls            416.029062\n",
       "Total day charge            89.046843\n",
       "Total eve minutes         2472.005659\n",
       "Total eve calls            359.036621\n",
       "Total eve charge            17.860429\n",
       "Total night minutes       2476.050715\n",
       "Total night calls          406.929940\n",
       "Total night charge           5.015042\n",
       "Total intl minutes           7.884020\n",
       "Total intl calls             6.162518\n",
       "Total intl charge            0.574817\n",
       "Customer service calls       1.777841\n",
       "Churn                        0.122326\n",
       "dtype: float64"
      ]
     },
     "execution_count": 21,
     "metadata": {},
     "output_type": "execute_result"
    }
   ],
   "source": [
    "var()"
   ]
  },
  {
   "cell_type": "code",
   "execution_count": 29,
   "id": "57dea069-24b2-4809-80d6-f0ad192bd65e",
   "metadata": {},
   "outputs": [
    {
     "data": {
      "text/plain": [
       "Account length            102.00\n",
       "Area code                 415.00\n",
       "Number vmail messages       0.00\n",
       "Total day minutes         178.30\n",
       "Total day calls           101.00\n",
       "Total day charge           30.31\n",
       "Total eve minutes         203.70\n",
       "Total eve calls           101.00\n",
       "Total eve charge           17.31\n",
       "Total night minutes       201.60\n",
       "Total night calls         100.00\n",
       "Total night charge          9.07\n",
       "Total intl minutes         10.50\n",
       "Total intl calls            4.00\n",
       "Total intl charge           2.84\n",
       "Customer service calls      1.00\n",
       "Name: 0.5, dtype: float64"
      ]
     },
     "execution_count": 29,
     "metadata": {},
     "output_type": "execute_result"
    }
   ],
   "source": [
    "n = new.select_dtypes(exclude=\"boolean\")\n",
    "n.quantile()"
   ]
  },
  {
   "cell_type": "code",
   "execution_count": null,
   "id": "5b297642-b4de-4f87-997c-fcee80de8bc5",
   "metadata": {},
   "outputs": [],
   "source": []
  }
 ],
 "metadata": {
  "kernelspec": {
   "display_name": "Python 3 (ipykernel)",
   "language": "python",
   "name": "python3"
  },
  "language_info": {
   "codemirror_mode": {
    "name": "ipython",
    "version": 3
   },
   "file_extension": ".py",
   "mimetype": "text/x-python",
   "name": "python",
   "nbconvert_exporter": "python",
   "pygments_lexer": "ipython3",
   "version": "3.12.0"
  }
 },
 "nbformat": 4,
 "nbformat_minor": 5
}
