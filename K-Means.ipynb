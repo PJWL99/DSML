{
 "cells": [
  {
   "cell_type": "code",
   "execution_count": 2,
   "id": "869eadc2-1c9f-4df2-ac4d-2f9a337c5c0e",
   "metadata": {},
   "outputs": [],
   "source": [
    "import numpy as np\n",
    "import math"
   ]
  },
  {
   "cell_type": "code",
   "execution_count": 3,
   "id": "38e6aba9-c657-4fa7-9b92-729d163a7c02",
   "metadata": {},
   "outputs": [],
   "source": [
    "x = np.array([2,2,8,5,7,6,1,4])\n",
    "y = np.array([10,5,4,8,5,4,2,9])"
   ]
  },
  {
   "cell_type": "code",
   "execution_count": 4,
   "id": "c19044e8-c6ca-49e4-90c0-84b8e3ec7269",
   "metadata": {},
   "outputs": [],
   "source": [
    "def dist(x1,y1,x2,y2):\n",
    "    return math.sqrt((x1-x2)**2 + (y1-y2)**2)"
   ]
  },
  {
   "cell_type": "code",
   "execution_count": 5,
   "id": "cbc3a10b-7312-4f33-a6d9-0a404e16314e",
   "metadata": {},
   "outputs": [],
   "source": [
    "def returncluster(x1,y1,m1,m2,m3):\n",
    "    d1 = dist(x1,y1,m1[0],m1[1])\n",
    "    d2 = dist(x1,y1,m2[0],m2[1])\n",
    "    d3 = dist(x1,y1,m3[0],m3[1])\n",
    "\n",
    "    if(d1 < d2 and d1 < d3):\n",
    "        return 1\n",
    "\n",
    "    elif (d2<d3 and d2<d1):\n",
    "        return 2\n",
    "\n",
    "    else:\n",
    "        return 3"
   ]
  },
  {
   "cell_type": "code",
   "execution_count": 9,
   "id": "871552fc-f1b7-4b0d-82e7-889a4df83fe4",
   "metadata": {},
   "outputs": [
    {
     "name": "stdout",
     "output_type": "stream",
     "text": [
      "Iteration:  0\n",
      "m1: [2, 10] m2: [5, 8] m3:  [1, 2]\n",
      "c1:  [[2, 10]]\n",
      "c2:  [[8, 4], [5, 8], [7, 5], [6, 4], [4, 9]]\n",
      "c3:  [[2, 5], [1, 2]]\n",
      "m1: [ 2. 10.] m2: [6. 6.] m3:  [1.5 3.5]\n",
      "\n",
      "Iteration:  1\n",
      "m1: [ 2. 10.] m2: [6. 6.] m3:  [1.5 3.5]\n",
      "c1:  [[2, 10], [4, 9]]\n",
      "c2:  [[8, 4], [5, 8], [7, 5], [6, 4]]\n",
      "c3:  [[2, 5], [1, 2]]\n",
      "m1: [3.  9.5] m2: [6.5  5.25] m3:  [1.5 3.5]\n",
      "\n",
      "Iteration:  2\n",
      "m1: [3.  9.5] m2: [6.5  5.25] m3:  [1.5 3.5]\n",
      "c1:  [[2, 10], [5, 8], [4, 9]]\n",
      "c2:  [[8, 4], [7, 5], [6, 4]]\n",
      "c3:  [[2, 5], [1, 2]]\n",
      "m1: [3.66666667 9.        ] m2: [7.         4.33333333] m3:  [1.5 3.5]\n",
      "\n",
      "Iteration:  3\n",
      "m1: [3.66666667 9.        ] m2: [7.         4.33333333] m3:  [1.5 3.5]\n",
      "c1:  [[2, 10], [5, 8], [4, 9]]\n",
      "c2:  [[8, 4], [7, 5], [6, 4]]\n",
      "c3:  [[2, 5], [1, 2]]\n",
      "m1: [3.66666667 9.        ] m2: [7.         4.33333333] m3:  [1.5 3.5]\n",
      "\n"
     ]
    }
   ],
   "source": [
    "m1 = [2,10]\n",
    "m2 = [5,8]\n",
    "m3 = [1,2]\n",
    "itr = 0\n",
    "\n",
    "diff = math.inf\n",
    "while(diff>0):\n",
    "    c1 = []\n",
    "    c2 = []\n",
    "    c3 = []\n",
    "    for i in range(0,len(x)):\n",
    "        clusn = returncluster(x[i],y[i],m1,m2,m3)\n",
    "        point =[x[i],y[i]]\n",
    "        if(clusn == 1):\n",
    "            c1.append(point)\n",
    "        elif(clusn == 2):\n",
    "            c2.append(point)\n",
    "        else:\n",
    "            c3.append(point)\n",
    "\n",
    "    print(\"Iteration: \",itr)\n",
    "    print(\"m1:\", m1, \"m2:\", m2, \"m3: \",m3)\n",
    "\n",
    "    m1_old = m1\n",
    "    m2_old = m2\n",
    "    m3_old = m3\n",
    "    m1=[]\n",
    "    m2=[]\n",
    "    m3 = []\n",
    "\n",
    "    m1 = np.mean(c1,axis=0)\n",
    "    m2 = np.mean(c2,axis=0)\n",
    "    m3 = np.mean(c3,axis=0)\n",
    "\n",
    "    diff = dist(m1[0],m1[1],m1_old[0],m1_old[1]) + dist(m2[0],m2[1],m2_old[0],m2_old[1]) + dist(m3[0],m3[1],m3_old[0],m3_old[1])\n",
    "    \n",
    "    \n",
    "    print(\"c1: \",c1)\n",
    "    print(\"c2: \",c2)\n",
    "    print(\"c3: \",c3)\n",
    "    print(\"m1:\", m1, \"m2:\", m2, \"m3: \",m3)\n",
    "    print(\"\")\n",
    "    itr+=1"
   ]
  },
  {
   "cell_type": "code",
   "execution_count": null,
   "id": "0af6be87-d115-4bd7-9ad3-28522a5b6813",
   "metadata": {},
   "outputs": [],
   "source": []
  }
 ],
 "metadata": {
  "kernelspec": {
   "display_name": "Python 3 (ipykernel)",
   "language": "python",
   "name": "python3"
  },
  "language_info": {
   "codemirror_mode": {
    "name": "ipython",
    "version": 3
   },
   "file_extension": ".py",
   "mimetype": "text/x-python",
   "name": "python",
   "nbconvert_exporter": "python",
   "pygments_lexer": "ipython3",
   "version": "3.12.0"
  }
 },
 "nbformat": 4,
 "nbformat_minor": 5
}
