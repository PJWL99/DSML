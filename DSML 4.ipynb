{
 "cells": [
  {
   "cell_type": "code",
   "execution_count": 1,
   "id": "e81a3f3e",
   "metadata": {},
   "outputs": [
    {
     "data": {
      "text/plain": [
       "'\\nWrite a program to do: A dataset collected in a cosmetics shop showing\\ndetails of customers and whether or not they responded to a special offer\\nto buy a new lip-stick is shown in table below. (Implement step by step\\nusing commands - Dont use library) Use this dataset to build a decision\\ntree, with Buys as the target variable, to help in buying lipsticks in the\\nfuture. Find the root node of the decision tree.\\n'"
      ]
     },
     "execution_count": 1,
     "metadata": {},
     "output_type": "execute_result"
    }
   ],
   "source": [
    "'''\n",
    "Write a program to do: A dataset collected in a cosmetics shop showing\n",
    "details of customers and whether or not they responded to a special offer\n",
    "to buy a new lip-stick is shown in table below. (Implement step by step\n",
    "using commands - Dont use library) Use this dataset to build a decision\n",
    "tree, with Buys as the target variable, to help in buying lipsticks in the\n",
    "future. Find the root node of the decision tree.\n",
    "'''"
   ]
  },
  {
   "cell_type": "code",
   "execution_count": 2,
   "id": "b3e8d9f0",
   "metadata": {},
   "outputs": [],
   "source": [
    "import pandas as pd\n",
    "import math"
   ]
  },
  {
   "cell_type": "code",
   "execution_count": 3,
   "id": "4a03fae9",
   "metadata": {},
   "outputs": [
    {
     "data": {
      "text/html": [
       "<div>\n",
       "<style scoped>\n",
       "    .dataframe tbody tr th:only-of-type {\n",
       "        vertical-align: middle;\n",
       "    }\n",
       "\n",
       "    .dataframe tbody tr th {\n",
       "        vertical-align: top;\n",
       "    }\n",
       "\n",
       "    .dataframe thead th {\n",
       "        text-align: right;\n",
       "    }\n",
       "</style>\n",
       "<table border=\"1\" class=\"dataframe\">\n",
       "  <thead>\n",
       "    <tr style=\"text-align: right;\">\n",
       "      <th></th>\n",
       "      <th>Id</th>\n",
       "      <th>Age</th>\n",
       "      <th>Income</th>\n",
       "      <th>Gender</th>\n",
       "      <th>Ms</th>\n",
       "      <th>Buys</th>\n",
       "    </tr>\n",
       "  </thead>\n",
       "  <tbody>\n",
       "    <tr>\n",
       "      <th>0</th>\n",
       "      <td>1</td>\n",
       "      <td>&lt;21</td>\n",
       "      <td>High</td>\n",
       "      <td>Male</td>\n",
       "      <td>Single</td>\n",
       "      <td>No</td>\n",
       "    </tr>\n",
       "    <tr>\n",
       "      <th>1</th>\n",
       "      <td>2</td>\n",
       "      <td>&lt;21</td>\n",
       "      <td>High</td>\n",
       "      <td>Male</td>\n",
       "      <td>Married</td>\n",
       "      <td>No</td>\n",
       "    </tr>\n",
       "    <tr>\n",
       "      <th>2</th>\n",
       "      <td>3</td>\n",
       "      <td>21-35</td>\n",
       "      <td>High</td>\n",
       "      <td>Male</td>\n",
       "      <td>Single</td>\n",
       "      <td>Yes</td>\n",
       "    </tr>\n",
       "    <tr>\n",
       "      <th>3</th>\n",
       "      <td>4</td>\n",
       "      <td>&gt;35</td>\n",
       "      <td>Medium</td>\n",
       "      <td>Male</td>\n",
       "      <td>Single</td>\n",
       "      <td>Yes</td>\n",
       "    </tr>\n",
       "    <tr>\n",
       "      <th>4</th>\n",
       "      <td>5</td>\n",
       "      <td>&gt;35</td>\n",
       "      <td>Low</td>\n",
       "      <td>Female</td>\n",
       "      <td>Single</td>\n",
       "      <td>Yes</td>\n",
       "    </tr>\n",
       "    <tr>\n",
       "      <th>5</th>\n",
       "      <td>6</td>\n",
       "      <td>&gt;35</td>\n",
       "      <td>Low</td>\n",
       "      <td>Female</td>\n",
       "      <td>Married</td>\n",
       "      <td>No</td>\n",
       "    </tr>\n",
       "    <tr>\n",
       "      <th>6</th>\n",
       "      <td>7</td>\n",
       "      <td>21-35</td>\n",
       "      <td>Low</td>\n",
       "      <td>Female</td>\n",
       "      <td>Married</td>\n",
       "      <td>Yes</td>\n",
       "    </tr>\n",
       "    <tr>\n",
       "      <th>7</th>\n",
       "      <td>8</td>\n",
       "      <td>&lt;21</td>\n",
       "      <td>Medium</td>\n",
       "      <td>Male</td>\n",
       "      <td>Single</td>\n",
       "      <td>No</td>\n",
       "    </tr>\n",
       "    <tr>\n",
       "      <th>8</th>\n",
       "      <td>9</td>\n",
       "      <td>&lt;21</td>\n",
       "      <td>Low</td>\n",
       "      <td>Female</td>\n",
       "      <td>Married</td>\n",
       "      <td>Yes</td>\n",
       "    </tr>\n",
       "    <tr>\n",
       "      <th>9</th>\n",
       "      <td>10</td>\n",
       "      <td>&gt;35</td>\n",
       "      <td>Medium</td>\n",
       "      <td>Female</td>\n",
       "      <td>Single</td>\n",
       "      <td>Yes</td>\n",
       "    </tr>\n",
       "    <tr>\n",
       "      <th>10</th>\n",
       "      <td>11</td>\n",
       "      <td>&lt;21</td>\n",
       "      <td>Medium</td>\n",
       "      <td>Female</td>\n",
       "      <td>Married</td>\n",
       "      <td>Yes</td>\n",
       "    </tr>\n",
       "    <tr>\n",
       "      <th>11</th>\n",
       "      <td>12</td>\n",
       "      <td>21-35</td>\n",
       "      <td>Medium</td>\n",
       "      <td>Male</td>\n",
       "      <td>Married</td>\n",
       "      <td>Yes</td>\n",
       "    </tr>\n",
       "    <tr>\n",
       "      <th>12</th>\n",
       "      <td>13</td>\n",
       "      <td>21-35</td>\n",
       "      <td>High</td>\n",
       "      <td>Female</td>\n",
       "      <td>Single</td>\n",
       "      <td>Yes</td>\n",
       "    </tr>\n",
       "    <tr>\n",
       "      <th>13</th>\n",
       "      <td>14</td>\n",
       "      <td>&gt;35</td>\n",
       "      <td>Medium</td>\n",
       "      <td>Male</td>\n",
       "      <td>Married</td>\n",
       "      <td>No</td>\n",
       "    </tr>\n",
       "  </tbody>\n",
       "</table>\n",
       "</div>"
      ],
      "text/plain": [
       "    Id    Age  Income  Gender       Ms Buys\n",
       "0    1    <21    High    Male   Single   No\n",
       "1    2    <21    High    Male  Married   No\n",
       "2    3  21-35    High    Male   Single  Yes\n",
       "3    4    >35  Medium    Male   Single  Yes\n",
       "4    5    >35     Low  Female   Single  Yes\n",
       "5    6    >35     Low  Female  Married   No\n",
       "6    7  21-35     Low  Female  Married  Yes\n",
       "7    8    <21  Medium    Male   Single   No\n",
       "8    9    <21     Low  Female  Married  Yes\n",
       "9   10    >35  Medium  Female   Single  Yes\n",
       "10  11    <21  Medium  Female  Married  Yes\n",
       "11  12  21-35  Medium    Male  Married  Yes\n",
       "12  13  21-35    High  Female   Single  Yes\n",
       "13  14    >35  Medium    Male  Married   No"
      ]
     },
     "execution_count": 3,
     "metadata": {},
     "output_type": "execute_result"
    }
   ],
   "source": [
    "df = pd.read_csv(\"D:\\VIIT TY Comp Sem 1\\Practice\\DSML\\Datasets\\Lipstick.csv\")\n",
    "df"
   ]
  },
  {
   "cell_type": "code",
   "execution_count": 4,
   "id": "8d95a981",
   "metadata": {},
   "outputs": [],
   "source": [
    "def calculateEntropy(y, n):\n",
    "    if (y == y+n) or (n == y+n):\n",
    "        return 0\n",
    "    \n",
    "    entropy = -(y/(y+n))*math.log2(y/(y+n)) - (n/(y+n))*math.log2(n/(y+n))\n",
    "    return entropy"
   ]
  },
  {
   "cell_type": "code",
   "execution_count": 5,
   "id": "685080d7",
   "metadata": {},
   "outputs": [
    {
     "data": {
      "text/plain": [
       "Yes    9\n",
       "No     5\n",
       "Name: Buys, dtype: int64"
      ]
     },
     "execution_count": 5,
     "metadata": {},
     "output_type": "execute_result"
    }
   ],
   "source": [
    "df['Buys'].value_counts()"
   ]
  },
  {
   "cell_type": "code",
   "execution_count": 6,
   "id": "575d01d6",
   "metadata": {},
   "outputs": [
    {
     "name": "stdout",
     "output_type": "stream",
     "text": [
      "Total Decisions:  14\n"
     ]
    }
   ],
   "source": [
    "Total_decisions = (df['Buys'] == 'Yes').sum() + (df['Buys'] == 'No').sum()\n",
    "print(\"Total Decisions: \", Total_decisions)"
   ]
  },
  {
   "cell_type": "code",
   "execution_count": 7,
   "id": "9d82d8fb",
   "metadata": {},
   "outputs": [],
   "source": [
    "#\n",
    "# Calculate Gain for 'Age'\n",
    "#"
   ]
  },
  {
   "cell_type": "code",
   "execution_count": 8,
   "id": "c0fd4efb",
   "metadata": {},
   "outputs": [
    {
     "name": "stdout",
     "output_type": "stream",
     "text": [
      "Count for age less than 21:  5\n"
     ]
    }
   ],
   "source": [
    "count_ageLessThan21 = (df['Age'] == '<21').sum()\n",
    "print(\"Count for age less than 21: \", count_ageLessThan21)"
   ]
  },
  {
   "cell_type": "code",
   "execution_count": 9,
   "id": "48e0cc24",
   "metadata": {},
   "outputs": [
    {
     "name": "stdout",
     "output_type": "stream",
     "text": [
      "Count for age 21-35:  4\n"
     ]
    }
   ],
   "source": [
    "count_age21to35 = (df['Age'] == '21-35').sum()\n",
    "print(\"Count for age 21-35: \", count_age21to35)"
   ]
  },
  {
   "cell_type": "code",
   "execution_count": 10,
   "id": "a7760d17",
   "metadata": {},
   "outputs": [
    {
     "name": "stdout",
     "output_type": "stream",
     "text": [
      "Count for age more than 35:  5\n"
     ]
    }
   ],
   "source": [
    "count_ageMoreThan35 = (df['Age'] == '>35').sum()\n",
    "print(\"Count for age more than 35: \", count_ageMoreThan35)"
   ]
  },
  {
   "cell_type": "code",
   "execution_count": 11,
   "id": "e6c4e8b3",
   "metadata": {},
   "outputs": [],
   "source": [
    "Total_Yes_decision = (df['Buys'] == 'Yes').sum()\n",
    "Total_No_decision = (df['Buys'] == 'No').sum()"
   ]
  },
  {
   "cell_type": "code",
   "execution_count": 12,
   "id": "78ef9283",
   "metadata": {},
   "outputs": [
    {
     "name": "stdout",
     "output_type": "stream",
     "text": [
      "Entropy(S) =  0.9402859586706311\n"
     ]
    }
   ],
   "source": [
    "Entropy_S = calculateEntropy(Total_Yes_decision, Total_No_decision)\n",
    "print(\"Entropy(S) = \", Entropy_S)"
   ]
  },
  {
   "cell_type": "code",
   "execution_count": 13,
   "id": "83b421f8",
   "metadata": {},
   "outputs": [
    {
     "name": "stdout",
     "output_type": "stream",
     "text": [
      "Number of 'Yes' decision for age <21:  2\n",
      "Number of 'No' decision for age <21:  3\n"
     ]
    }
   ],
   "source": [
    "Yes_decision_ageLessThan21 = ((df['Buys'] == 'Yes') & (df['Age'] == '<21')).sum()\n",
    "No_decision_ageLessThan21 = ((df['Buys'] == 'No') & (df['Age'] == '<21')).sum()\n",
    "\n",
    "print(\"Number of 'Yes' decision for age <21: \", Yes_decision_ageLessThan21)\n",
    "print(\"Number of 'No' decision for age <21: \",No_decision_ageLessThan21)"
   ]
  },
  {
   "cell_type": "code",
   "execution_count": 14,
   "id": "f1070f6a",
   "metadata": {},
   "outputs": [
    {
     "name": "stdout",
     "output_type": "stream",
     "text": [
      "Entropy(S_ageLessThan21) =  0.9709505944546686\n"
     ]
    }
   ],
   "source": [
    "Entropy_S_ageLessThan21 = calculateEntropy(Yes_decision_ageLessThan21, No_decision_ageLessThan21)\n",
    "print(\"Entropy(S_ageLessThan21) = \", Entropy_S_ageLessThan21)"
   ]
  },
  {
   "cell_type": "code",
   "execution_count": 15,
   "id": "df6764c7",
   "metadata": {},
   "outputs": [
    {
     "name": "stdout",
     "output_type": "stream",
     "text": [
      "Number of 'Yes' decision for age 21-35:  4\n",
      "Number of 'No' decision for age 21-35:  0\n"
     ]
    }
   ],
   "source": [
    "Yes_decision_age21to35 = ((df['Buys'] == 'Yes') & (df['Age'] == '21-35')).sum()\n",
    "No_decision_age21to35 = ((df['Buys'] == 'No') & (df['Age'] == '21-35')).sum()\n",
    "\n",
    "print(\"Number of 'Yes' decision for age 21-35: \", Yes_decision_age21to35)\n",
    "print(\"Number of 'No' decision for age 21-35: \",No_decision_age21to35)"
   ]
  },
  {
   "cell_type": "code",
   "execution_count": 16,
   "id": "75a10950",
   "metadata": {},
   "outputs": [
    {
     "name": "stdout",
     "output_type": "stream",
     "text": [
      "Entropy(S_age21to35) =  0\n"
     ]
    }
   ],
   "source": [
    "Entropy_S_age21to35 = calculateEntropy(Yes_decision_age21to35, No_decision_age21to35)\n",
    "print(\"Entropy(S_age21to35) = \", Entropy_S_age21to35)"
   ]
  },
  {
   "cell_type": "code",
   "execution_count": 17,
   "id": "38859678",
   "metadata": {},
   "outputs": [
    {
     "name": "stdout",
     "output_type": "stream",
     "text": [
      "Number of 'Yes' decision for age <21:  3\n",
      "Number of 'No' decision for age <21:  2\n"
     ]
    }
   ],
   "source": [
    "Yes_decision_ageMoreThan35 = ((df['Buys'] == 'Yes') & (df['Age'] == '>35')).sum()\n",
    "No_decision_ageMoreThan35 = ((df['Buys'] == 'No') & (df['Age'] == '>35')).sum()\n",
    "\n",
    "print(\"Number of 'Yes' decision for age <21: \", Yes_decision_ageMoreThan35)\n",
    "print(\"Number of 'No' decision for age <21: \",No_decision_ageMoreThan35)"
   ]
  },
  {
   "cell_type": "code",
   "execution_count": 18,
   "id": "1a3468a5",
   "metadata": {},
   "outputs": [
    {
     "name": "stdout",
     "output_type": "stream",
     "text": [
      "Entropy(S_ageMoreThan35) =  0.9709505944546686\n"
     ]
    }
   ],
   "source": [
    "Entropy_S_ageMoreThan35 = calculateEntropy(Yes_decision_ageMoreThan35, No_decision_ageMoreThan35)\n",
    "print(\"Entropy(S_ageMoreThan35) = \", Entropy_S_ageMoreThan35)"
   ]
  },
  {
   "cell_type": "code",
   "execution_count": 19,
   "id": "1d282526",
   "metadata": {},
   "outputs": [
    {
     "name": "stdout",
     "output_type": "stream",
     "text": [
      "Information Gain for age attribute =  0.24674981977443933\n"
     ]
    }
   ],
   "source": [
    "Gain_age = Entropy_S - ((count_ageLessThan21/Total_decisions)*Entropy_S_ageLessThan21 + (count_age21to35/Total_decisions)*Entropy_S_age21to35 + (count_ageMoreThan35/Total_decisions)*Entropy_S_ageMoreThan35)\n",
    "print(\"Information Gain for age attribute = \", Gain_age) "
   ]
  },
  {
   "cell_type": "code",
   "execution_count": 20,
   "id": "4ce4ad2b",
   "metadata": {},
   "outputs": [],
   "source": [
    "#\n",
    "# Calculate Gain for 'Income'\n",
    "#"
   ]
  },
  {
   "cell_type": "code",
   "execution_count": 21,
   "id": "e1cf9755",
   "metadata": {},
   "outputs": [
    {
     "name": "stdout",
     "output_type": "stream",
     "text": [
      "Count Income = High:  4\n"
     ]
    }
   ],
   "source": [
    "count_IncomeHigh = (df['Income'] == 'High').sum()\n",
    "print(\"Count Income = High: \", count_IncomeHigh)"
   ]
  },
  {
   "cell_type": "code",
   "execution_count": 22,
   "id": "67a0d94f",
   "metadata": {},
   "outputs": [
    {
     "name": "stdout",
     "output_type": "stream",
     "text": [
      "Count Income = Medium:  6\n"
     ]
    }
   ],
   "source": [
    "count_IncomeMedium = (df['Income'] == 'Medium').sum()\n",
    "print(\"Count Income = Medium: \", count_IncomeMedium)"
   ]
  },
  {
   "cell_type": "code",
   "execution_count": 23,
   "id": "ac27b9e2",
   "metadata": {},
   "outputs": [
    {
     "name": "stdout",
     "output_type": "stream",
     "text": [
      "Count Income = Low:  4\n"
     ]
    }
   ],
   "source": [
    "count_IncomeLow = (df['Income'] == 'Low').sum()\n",
    "print(\"Count Income = Low: \", count_IncomeLow)"
   ]
  },
  {
   "cell_type": "code",
   "execution_count": 24,
   "id": "e27cde1c",
   "metadata": {},
   "outputs": [
    {
     "name": "stdout",
     "output_type": "stream",
     "text": [
      "Number of 'Yes' decision for Income = High:  2\n",
      "Number of 'No' decision for Income = High:  2\n"
     ]
    }
   ],
   "source": [
    "Yes_decision_IncomeHigh = ((df['Buys'] == 'Yes') & (df['Income'] == 'High')).sum()\n",
    "No_decision_IncomeHigh = ((df['Buys'] == 'No') & (df['Income'] == 'High')).sum()\n",
    "\n",
    "print(\"Number of 'Yes' decision for Income = High: \", Yes_decision_IncomeHigh)\n",
    "print(\"Number of 'No' decision for Income = High: \",No_decision_IncomeHigh)"
   ]
  },
  {
   "cell_type": "code",
   "execution_count": 25,
   "id": "ab7946b3",
   "metadata": {},
   "outputs": [
    {
     "name": "stdout",
     "output_type": "stream",
     "text": [
      "Number of 'Yes' decision for Income = Medium:  4\n",
      "Number of 'No' decision for Income = Medium:  2\n"
     ]
    }
   ],
   "source": [
    "Yes_decision_IncomeMedium = ((df['Buys'] == 'Yes') & (df['Income'] == 'Medium')).sum()\n",
    "No_decision_IncomeMedium = ((df['Buys'] == 'No') & (df['Income'] == 'Medium')).sum()\n",
    "\n",
    "print(\"Number of 'Yes' decision for Income = Medium: \", Yes_decision_IncomeMedium)\n",
    "print(\"Number of 'No' decision for Income = Medium: \", No_decision_IncomeMedium)"
   ]
  },
  {
   "cell_type": "code",
   "execution_count": 26,
   "id": "a339b652",
   "metadata": {},
   "outputs": [
    {
     "name": "stdout",
     "output_type": "stream",
     "text": [
      "Number of 'Yes' decision for Income = Medium:  3\n",
      "Number of 'No' decision for Income = Medium:  1\n"
     ]
    }
   ],
   "source": [
    "Yes_decision_IncomeLow = ((df['Buys'] == 'Yes') & (df['Income'] == 'Low')).sum()\n",
    "No_decision_IncomeLow = ((df['Buys'] == 'No') & (df['Income'] == 'Low')).sum()\n",
    "\n",
    "print(\"Number of 'Yes' decision for Income = Medium: \", Yes_decision_IncomeLow)\n",
    "print(\"Number of 'No' decision for Income = Medium: \", No_decision_IncomeLow)"
   ]
  },
  {
   "cell_type": "code",
   "execution_count": 27,
   "id": "515af6d5",
   "metadata": {},
   "outputs": [
    {
     "name": "stdout",
     "output_type": "stream",
     "text": [
      "Entropy(S_IncomeHigh) =  1.0\n"
     ]
    }
   ],
   "source": [
    "Entropy_S_IncomeHigh = calculateEntropy(Yes_decision_IncomeHigh, No_decision_IncomeHigh)\n",
    "print(\"Entropy(S_IncomeHigh) = \", Entropy_S_IncomeHigh)"
   ]
  },
  {
   "cell_type": "code",
   "execution_count": 28,
   "id": "957f0c14",
   "metadata": {},
   "outputs": [
    {
     "name": "stdout",
     "output_type": "stream",
     "text": [
      "Entropy(S_IncomeLow) =  0.9182958340544896\n"
     ]
    }
   ],
   "source": [
    "Entropy_S_IncomeMedium = calculateEntropy(Yes_decision_IncomeMedium, No_decision_IncomeMedium)\n",
    "print(\"Entropy(S_IncomeLow) = \", Entropy_S_IncomeMedium)"
   ]
  },
  {
   "cell_type": "code",
   "execution_count": 29,
   "id": "20669dd3",
   "metadata": {},
   "outputs": [
    {
     "name": "stdout",
     "output_type": "stream",
     "text": [
      "Entropy(S_IncomeLow) =  0.8112781244591328\n"
     ]
    }
   ],
   "source": [
    "Entropy_S_IncomeLow = calculateEntropy(Yes_decision_IncomeLow, No_decision_IncomeLow)\n",
    "print(\"Entropy(S_IncomeLow) = \", Entropy_S_IncomeLow)"
   ]
  },
  {
   "cell_type": "code",
   "execution_count": 30,
   "id": "fb647267",
   "metadata": {},
   "outputs": [
    {
     "name": "stdout",
     "output_type": "stream",
     "text": [
      "Information Gain for income attribute =  0.02922256565895487\n"
     ]
    }
   ],
   "source": [
    "Gain_income = Entropy_S - ((count_IncomeHigh/Total_decisions)*Entropy_S_IncomeHigh + (count_IncomeMedium/Total_decisions)*Entropy_S_IncomeMedium + (count_IncomeLow/Total_decisions)*Entropy_S_IncomeLow)\n",
    "print(\"Information Gain for income attribute = \", Gain_income)"
   ]
  },
  {
   "cell_type": "code",
   "execution_count": 31,
   "id": "a1fb127e",
   "metadata": {},
   "outputs": [],
   "source": [
    "#\n",
    "# Calculate Gain for 'Gender'\n",
    "#"
   ]
  },
  {
   "cell_type": "code",
   "execution_count": 32,
   "id": "4b10cbf7",
   "metadata": {},
   "outputs": [
    {
     "name": "stdout",
     "output_type": "stream",
     "text": [
      "Count Gender = Male:  7\n"
     ]
    }
   ],
   "source": [
    "count_GenderMale = (df['Gender'] == 'Male').sum()\n",
    "print(\"Count Gender = Male: \", count_GenderMale)"
   ]
  },
  {
   "cell_type": "code",
   "execution_count": 33,
   "id": "d0b5f0c9",
   "metadata": {},
   "outputs": [
    {
     "name": "stdout",
     "output_type": "stream",
     "text": [
      "Count Gender = Female:  7\n"
     ]
    }
   ],
   "source": [
    "count_GenderFemale = (df['Gender'] == 'Female').sum()\n",
    "print(\"Count Gender = Female: \", count_GenderFemale)"
   ]
  },
  {
   "cell_type": "code",
   "execution_count": 34,
   "id": "ee8e7664",
   "metadata": {},
   "outputs": [
    {
     "name": "stdout",
     "output_type": "stream",
     "text": [
      "Number of 'Yes' decision for Gender = Male:  3\n",
      "Number of 'No' decision for Gender = Male:  4\n"
     ]
    }
   ],
   "source": [
    "Yes_decision_GenderMale = ((df['Buys'] == 'Yes') & (df['Gender'] == 'Male')).sum()\n",
    "No_decision_GenderMale = ((df['Buys'] == 'No') & (df['Gender'] == 'Male')).sum()\n",
    "\n",
    "print(\"Number of 'Yes' decision for Gender = Male: \", Yes_decision_GenderMale)\n",
    "print(\"Number of 'No' decision for Gender = Male: \",No_decision_GenderMale)"
   ]
  },
  {
   "cell_type": "code",
   "execution_count": 35,
   "id": "37ae0231",
   "metadata": {},
   "outputs": [
    {
     "name": "stdout",
     "output_type": "stream",
     "text": [
      "Number of 'Yes' decision for Gender = Male:  6\n",
      "Number of 'No' decision for Gender = Male:  1\n"
     ]
    }
   ],
   "source": [
    "Yes_decision_GenderFemale = ((df['Buys'] == 'Yes') & (df['Gender'] == 'Female')).sum()\n",
    "No_decision_GenderFemale = ((df['Buys'] == 'No') & (df['Gender'] == 'Female')).sum()\n",
    "\n",
    "print(\"Number of 'Yes' decision for Gender = Male: \", Yes_decision_GenderFemale)\n",
    "print(\"Number of 'No' decision for Gender = Male: \",No_decision_GenderFemale)"
   ]
  },
  {
   "cell_type": "code",
   "execution_count": 36,
   "id": "6c946956",
   "metadata": {},
   "outputs": [
    {
     "name": "stdout",
     "output_type": "stream",
     "text": [
      "Entropy(S_IncomeHigh) =  0.9852281360342516\n"
     ]
    }
   ],
   "source": [
    "Entropy_S_GenderMale = calculateEntropy(Yes_decision_GenderMale, No_decision_GenderMale)\n",
    "print(\"Entropy(S_IncomeHigh) = \", Entropy_S_GenderMale)"
   ]
  },
  {
   "cell_type": "code",
   "execution_count": 37,
   "id": "0b4addbb",
   "metadata": {},
   "outputs": [
    {
     "name": "stdout",
     "output_type": "stream",
     "text": [
      "Entropy(S_IncomeHigh) =  0.5916727785823275\n"
     ]
    }
   ],
   "source": [
    "Entropy_S_GenderFemale = calculateEntropy(Yes_decision_GenderFemale, No_decision_GenderFemale)\n",
    "print(\"Entropy(S_IncomeHigh) = \", Entropy_S_GenderFemale)"
   ]
  },
  {
   "cell_type": "code",
   "execution_count": 38,
   "id": "3391b01d",
   "metadata": {},
   "outputs": [
    {
     "name": "stdout",
     "output_type": "stream",
     "text": [
      "Information Gain for gender attribute =  0.15183550136234159\n"
     ]
    }
   ],
   "source": [
    "Gain_gender = Entropy_S - ((count_GenderMale/Total_decisions)*Entropy_S_GenderMale + (count_GenderFemale/Total_decisions)*Entropy_S_GenderFemale)\n",
    "print(\"Information Gain for gender attribute = \", Gain_gender)"
   ]
  },
  {
   "cell_type": "code",
   "execution_count": 39,
   "id": "df772beb",
   "metadata": {},
   "outputs": [],
   "source": [
    "#\n",
    "# Calculate Gain for 'Marital Status'\n",
    "#"
   ]
  },
  {
   "cell_type": "code",
   "execution_count": 40,
   "id": "8ccd59b9",
   "metadata": {},
   "outputs": [
    {
     "name": "stdout",
     "output_type": "stream",
     "text": [
      "Count of Married:  7\n"
     ]
    }
   ],
   "source": [
    "count_Married = (df['Ms'] == 'Married').sum()\n",
    "print(\"Count of Married: \", count_Married)"
   ]
  },
  {
   "cell_type": "code",
   "execution_count": 41,
   "id": "49d425d7",
   "metadata": {},
   "outputs": [
    {
     "name": "stdout",
     "output_type": "stream",
     "text": [
      "Count of Single:  7\n"
     ]
    }
   ],
   "source": [
    "count_Single = (df['Ms'] == 'Single').sum()\n",
    "print(\"Count of Single: \", count_Single)"
   ]
  },
  {
   "cell_type": "code",
   "execution_count": 42,
   "id": "3e3d99b6",
   "metadata": {},
   "outputs": [
    {
     "name": "stdout",
     "output_type": "stream",
     "text": [
      "Number of 'Yes' decision for Married:  3\n",
      "Number of 'No' decision for Married:  4\n"
     ]
    }
   ],
   "source": [
    "Yes_decision_Married = ((df['Buys'] == 'Yes') & (df['Ms'] == 'Married')).sum()\n",
    "No_decision_Married = ((df['Buys'] == 'No') & (df['Ms'] == 'Married')).sum()\n",
    "\n",
    "print(\"Number of 'Yes' decision for Married: \", Yes_decision_GenderMale)\n",
    "print(\"Number of 'No' decision for Married: \",No_decision_GenderMale)"
   ]
  },
  {
   "cell_type": "code",
   "execution_count": 43,
   "id": "11a369ef",
   "metadata": {},
   "outputs": [
    {
     "name": "stdout",
     "output_type": "stream",
     "text": [
      "Number of 'Yes' decision for Single:  5\n",
      "Number of 'No' decision for Single:  2\n"
     ]
    }
   ],
   "source": [
    "Yes_decision_Single = ((df['Buys'] == 'Yes') & (df['Ms'] == 'Single')).sum()\n",
    "No_decision_Single = ((df['Buys'] == 'No') & (df['Ms'] == 'Single')).sum()\n",
    "\n",
    "print(\"Number of 'Yes' decision for Single: \", Yes_decision_Single)\n",
    "print(\"Number of 'No' decision for Single: \",No_decision_Single)"
   ]
  },
  {
   "cell_type": "code",
   "execution_count": 44,
   "id": "6989ca2a",
   "metadata": {},
   "outputs": [
    {
     "name": "stdout",
     "output_type": "stream",
     "text": [
      "Entropy(S_Married) =  0.9852281360342516\n"
     ]
    }
   ],
   "source": [
    "Entropy_S_Married = calculateEntropy(Yes_decision_Married, No_decision_Married)\n",
    "print(\"Entropy(S_Married) = \", Entropy_S_Married)"
   ]
  },
  {
   "cell_type": "code",
   "execution_count": 45,
   "id": "01e9e194",
   "metadata": {},
   "outputs": [
    {
     "name": "stdout",
     "output_type": "stream",
     "text": [
      "Entropy(S_Single) =  0.863120568566631\n"
     ]
    }
   ],
   "source": [
    "Entropy_S_Single = calculateEntropy(Yes_decision_Single, No_decision_Single)\n",
    "print(\"Entropy(S_Single) = \", Entropy_S_Single)"
   ]
  },
  {
   "cell_type": "code",
   "execution_count": 46,
   "id": "d3f58b21",
   "metadata": {},
   "outputs": [
    {
     "name": "stdout",
     "output_type": "stream",
     "text": [
      "Information Gain for Marital Status attribute =  0.016111606370189824\n"
     ]
    }
   ],
   "source": [
    "Gain_MaritalStatus = Entropy_S - ((count_Married/Total_decisions)*Entropy_S_Married + (count_Single/Total_decisions)*Entropy_S_Single)\n",
    "print(\"Information Gain for Marital Status attribute = \", Gain_MaritalStatus)"
   ]
  },
  {
   "cell_type": "code",
   "execution_count": 47,
   "id": "07b1921b",
   "metadata": {},
   "outputs": [],
   "source": [
    "def find_max_variable(variables):\n",
    "    max_variable = max(variables, key=variables.get)\n",
    "    return max_variable"
   ]
  },
  {
   "cell_type": "code",
   "execution_count": 48,
   "id": "8790aa71",
   "metadata": {},
   "outputs": [
    {
     "name": "stdout",
     "output_type": "stream",
     "text": [
      "The variable with the maximum value is: Age\n"
     ]
    }
   ],
   "source": [
    "Gain_values = {'Age': Gain_age, 'Income': Gain_income, 'Gender': Gain_gender, 'Marital Status': Gain_MaritalStatus}\n",
    "Maximum_Gain_from = find_max_variable(Gain_values)\n",
    "\n",
    "print(\"The variable with the maximum value is:\", Maximum_Gain_from)"
   ]
  },
  {
   "cell_type": "code",
   "execution_count": 49,
   "id": "f5bdd12a",
   "metadata": {},
   "outputs": [
    {
     "name": "stdout",
     "output_type": "stream",
     "text": [
      "The Root Node Attribute is: 'Age'\n"
     ]
    }
   ],
   "source": [
    "print(\"The Root Node Attribute is: 'Age'\")"
   ]
  },
  {
   "cell_type": "code",
   "execution_count": null,
   "id": "a817cbe0",
   "metadata": {},
   "outputs": [],
   "source": []
  }
 ],
 "metadata": {
  "kernelspec": {
   "display_name": "Python 3 (ipykernel)",
   "language": "python",
   "name": "python3"
  },
  "language_info": {
   "codemirror_mode": {
    "name": "ipython",
    "version": 3
   },
   "file_extension": ".py",
   "mimetype": "text/x-python",
   "name": "python",
   "nbconvert_exporter": "python",
   "pygments_lexer": "ipython3",
   "version": "3.9.13"
  }
 },
 "nbformat": 4,
 "nbformat_minor": 5
}
