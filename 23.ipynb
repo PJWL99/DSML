{
 "cells": [
  {
   "cell_type": "code",
   "execution_count": 1,
   "id": "a97e9bc6-6fd4-4868-92a6-9fbf045ec91c",
   "metadata": {},
   "outputs": [],
   "source": [
    "import numpy as np\n",
    "import pandas as pd"
   ]
  },
  {
   "cell_type": "code",
   "execution_count": 2,
   "id": "4752cc86-280f-4de3-b729-88e70f80141f",
   "metadata": {},
   "outputs": [],
   "source": [
    "\n",
    "# Sample data, replace this with your actual DataFrame\n",
    "data = {'age': [\"Young\",\"Young\",\"Middle\",\"Old\",\"Old\",\"Old\",\"Middle\",\"Young\",\"Young\",\"Old\",\"Young\",\"Middle\",\"Middle\",\"Old\"],\n",
    "        'class': [0,0,1,1,1,0,1,0,1,1,1,1,1,0]}\n",
    "\n",
    "df = pd.DataFrame(data)\n"
   ]
  },
  {
   "cell_type": "code",
   "execution_count": 3,
   "id": "59491352-2e07-42bf-afdb-0cf39796af1c",
   "metadata": {},
   "outputs": [
    {
     "data": {
      "text/html": [
       "<div>\n",
       "<style scoped>\n",
       "    .dataframe tbody tr th:only-of-type {\n",
       "        vertical-align: middle;\n",
       "    }\n",
       "\n",
       "    .dataframe tbody tr th {\n",
       "        vertical-align: top;\n",
       "    }\n",
       "\n",
       "    .dataframe thead th {\n",
       "        text-align: right;\n",
       "    }\n",
       "</style>\n",
       "<table border=\"1\" class=\"dataframe\">\n",
       "  <thead>\n",
       "    <tr style=\"text-align: right;\">\n",
       "      <th></th>\n",
       "      <th>age</th>\n",
       "      <th>count</th>\n",
       "    </tr>\n",
       "  </thead>\n",
       "  <tbody>\n",
       "    <tr>\n",
       "      <th>0</th>\n",
       "      <td>Young</td>\n",
       "      <td>5</td>\n",
       "    </tr>\n",
       "    <tr>\n",
       "      <th>1</th>\n",
       "      <td>Old</td>\n",
       "      <td>5</td>\n",
       "    </tr>\n",
       "    <tr>\n",
       "      <th>2</th>\n",
       "      <td>Middle</td>\n",
       "      <td>4</td>\n",
       "    </tr>\n",
       "  </tbody>\n",
       "</table>\n",
       "</div>"
      ],
      "text/plain": [
       "      age  count\n",
       "0   Young      5\n",
       "1     Old      5\n",
       "2  Middle      4"
      ]
     },
     "execution_count": 3,
     "metadata": {},
     "output_type": "execute_result"
    }
   ],
   "source": [
    "df['age'].value_counts().reset_index()"
   ]
  },
  {
   "cell_type": "code",
   "execution_count": 4,
   "id": "cd249e8e-2903-4b81-b2aa-1d3e0608b32f",
   "metadata": {},
   "outputs": [],
   "source": [
    "# Step 1: Create a frequency table for the attribute \"age\"\n",
    "age_freq_table = df['age'].value_counts().reset_index()\n",
    "age_freq_table.columns = ['age', 'frequency']\n"
   ]
  },
  {
   "cell_type": "code",
   "execution_count": 5,
   "id": "e7b49f88-0501-41fe-875c-f87773a9f91e",
   "metadata": {},
   "outputs": [],
   "source": [
    "# Step 2: Calculate information gain\n",
    "total_entropy = -(df['class'].value_counts(normalize=True) * np.log2(df['class'].value_counts(normalize=True))).sum()\n"
   ]
  },
  {
   "cell_type": "code",
   "execution_count": 6,
   "id": "92c9907e-c76d-4404-b5c5-e1e8e34caf18",
   "metadata": {},
   "outputs": [],
   "source": [
    "# Function to calculate entropy\n",
    "def calculate_entropy(data):\n",
    "    entropy = -(data['class'].value_counts(normalize=True) * np.log2(data['class'].value_counts(normalize=True))).sum() * (len(data) / len(df))\n",
    "    return entropy\n"
   ]
  },
  {
   "cell_type": "code",
   "execution_count": 7,
   "id": "f1940fe8-430e-4167-aff7-8252de2b1515",
   "metadata": {},
   "outputs": [],
   "source": [
    "# Calculate information gain for each age group\n",
    "age_freq_table['information_gain'] = age_freq_table['age'].apply(lambda x: total_entropy - calculate_entropy(df[df['age'] == x]))\n"
   ]
  },
  {
   "cell_type": "code",
   "execution_count": 8,
   "id": "0516fac3-5106-4bf3-9c8c-e8b1216fd60f",
   "metadata": {},
   "outputs": [
    {
     "name": "stdout",
     "output_type": "stream",
     "text": [
      "Frequency Table for Age:\n",
      "      age  frequency  information_gain\n",
      "0   Young          5          0.593518\n",
      "1     Old          5          0.593518\n",
      "2  Middle          4          0.940286\n"
     ]
    }
   ],
   "source": [
    "# Display the frequency table and information gain\n",
    "print(\"Frequency Table for Age:\")\n",
    "print(age_freq_table)"
   ]
  },
  {
   "cell_type": "code",
   "execution_count": 9,
   "id": "bd131624-725f-4d71-bb8a-84d36a11d520",
   "metadata": {},
   "outputs": [
    {
     "name": "stdout",
     "output_type": "stream",
     "text": [
      "\n",
      "Age with Maximum Information Gain: Middle\n"
     ]
    }
   ],
   "source": [
    "# Optional: If you want to find the age with the highest information gain\n",
    "max_info_gain_age = age_freq_table.loc[age_freq_table['information_gain'].idxmax(), 'age']\n",
    "print(\"\\nAge with Maximum Information Gain:\", max_info_gain_age)"
   ]
  }
 ],
 "metadata": {
  "kernelspec": {
   "display_name": "Python 3 (ipykernel)",
   "language": "python",
   "name": "python3"
  },
  "language_info": {
   "codemirror_mode": {
    "name": "ipython",
    "version": 3
   },
   "file_extension": ".py",
   "mimetype": "text/x-python",
   "name": "python",
   "nbconvert_exporter": "python",
   "pygments_lexer": "ipython3",
   "version": "3.8.2"
  }
 },
 "nbformat": 4,
 "nbformat_minor": 5
}
