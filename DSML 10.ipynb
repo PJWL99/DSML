{
 "cells": [
  {
   "cell_type": "code",
   "execution_count": 1,
   "id": "6eb28e7f-bfc4-4625-a1a7-ae95d8041104",
   "metadata": {},
   "outputs": [],
   "source": [
    "import numpy as np"
   ]
  },
  {
   "cell_type": "code",
   "execution_count": 3,
   "id": "664464a2-c6c6-440e-9b0b-1cde3e8e0265",
   "metadata": {},
   "outputs": [],
   "source": [
    "points= {\n",
    "    'P1' : np.array([2,10]),\n",
    "    'P2' : np.array([2,5]),\n",
    "    'P3' : np.array([8,4]),\n",
    "    'P4' : np.array([5,8]),\n",
    "    'P5' : np.array([7,5]),\n",
    "    'P6' : np.array([6,4]),\n",
    "    'P7' : np.array([1,2]),\n",
    "    'P8' : np.array([4,9])\n",
    "}"
   ]
  },
  {
   "cell_type": "code",
   "execution_count": 5,
   "id": "63425d58-75c2-4494-9576-3dec44cc36bc",
   "metadata": {},
   "outputs": [],
   "source": [
    "m1 = np.array([2,10])\n",
    "m2 = np.array([5,8])\n",
    "m3 = np.array([1,2])"
   ]
  },
  {
   "cell_type": "code",
   "execution_count": 19,
   "id": "4f632543-9f4b-4e97-8644-4375bccc63c4",
   "metadata": {},
   "outputs": [],
   "source": [
    "def dist(p1, p2):\n",
    "    return np.sqrt(np.sum((p1-p2)**2))\n"
   ]
  },
  {
   "cell_type": "code",
   "execution_count": 20,
   "id": "e8f78e21-3648-4b7f-bca2-c624cba05472",
   "metadata": {},
   "outputs": [],
   "source": [
    "c1 = [];\n",
    "c2 = [];\n",
    "c3 = [];\n",
    "for name, point in points.items():\n",
    "    d1 = dist(m1, point)\n",
    "    d2 = dist(m2, point)\n",
    "    d3 = dist(m3, point)\n",
    "\n",
    "    if(d1 < d2 and d1 < d3):\n",
    "        c1.append(name)\n",
    "    elif(d2 < d1 and d2 < d3):\n",
    "        c2.append(name)\n",
    "    else:\n",
    "        c3.append(name)\n",
    "        \n",
    "    "
   ]
  },
  {
   "cell_type": "code",
   "execution_count": 21,
   "id": "ccc45072-e185-43d0-a2c5-0f5eeac98297",
   "metadata": {},
   "outputs": [
    {
     "name": "stdout",
     "output_type": "stream",
     "text": [
      "p6 in c2\n"
     ]
    }
   ],
   "source": [
    "if('P6' in c1):\n",
    "    print(\"p6 in c1\")\n",
    "\n",
    "elif ('P6' in c2):\n",
    "    print(\"p6 in c2\")\n",
    "\n",
    "else:\n",
    "    print(\"p6 in c3\")"
   ]
  },
  {
   "cell_type": "code",
   "execution_count": 22,
   "id": "f177a558-762f-45e8-b71d-6322806dc7a2",
   "metadata": {},
   "outputs": [
    {
     "name": "stdout",
     "output_type": "stream",
     "text": [
      "['P1']\n",
      "['P3', 'P4', 'P5', 'P6', 'P8']\n",
      "['P2', 'P7']\n"
     ]
    }
   ],
   "source": [
    "print(c1)\n",
    "print(c2)\n",
    "print(c3)"
   ]
  },
  {
   "cell_type": "code",
   "execution_count": 25,
   "id": "6a2d6386-bb24-444b-843d-0eddc136d4b5",
   "metadata": {},
   "outputs": [
    {
     "name": "stdout",
     "output_type": "stream",
     "text": [
      "2\n"
     ]
    }
   ],
   "source": [
    "print(len(c3))"
   ]
  },
  {
   "cell_type": "code",
   "execution_count": 29,
   "id": "391ce4fc-8f3f-4e04-9b36-777616041187",
   "metadata": {},
   "outputs": [],
   "source": [
    "x1=0\n",
    "y1=0\n",
    "x2=0\n",
    "y2=0\n",
    "x3=0\n",
    "y3=0\n",
    "\n",
    "for i in c1:\n",
    "    x1 += points[i][0]\n",
    "    y1 += points[i][1]\n",
    "\n",
    "for i in c2:\n",
    "    x2 += points[i][0]\n",
    "    y2 += points[i][1]\n",
    "\n",
    "for i in c3:\n",
    "    x3 += points[i][0]\n",
    "    y3 += points[i][1]\n",
    "\n",
    "x1 = x1/len(c1)\n",
    "y1 = y1/len(c1)\n",
    "\n",
    "x2 = x2/len(c2)\n",
    "y2 = y2/len(c2)\n",
    "\n",
    "x3 = x3/len(c3)\n",
    "y3 = y3/len(c3)\n",
    "\n",
    "c1_new = [x1,y1]\n",
    "c2_new = [x2,y2]\n",
    "c3_new = [x3,y3]"
   ]
  },
  {
   "cell_type": "code",
   "execution_count": 30,
   "id": "4ebec49d-49e2-43bd-80fa-6a4bda2620ce",
   "metadata": {},
   "outputs": [
    {
     "name": "stdout",
     "output_type": "stream",
     "text": [
      "[2.0, 10.0]\n",
      "[6.0, 6.0]\n",
      "[1.5, 3.5]\n"
     ]
    }
   ],
   "source": [
    "print(c1_new)\n",
    "print(c2_new)\n",
    "print(c3_new)"
   ]
  },
  {
   "cell_type": "code",
   "execution_count": null,
   "id": "07d042c1-4cb9-4cba-8caa-681cc3dbf03a",
   "metadata": {},
   "outputs": [],
   "source": []
  }
 ],
 "metadata": {
  "kernelspec": {
   "display_name": "Python 3 (ipykernel)",
   "language": "python",
   "name": "python3"
  },
  "language_info": {
   "codemirror_mode": {
    "name": "ipython",
    "version": 3
   },
   "file_extension": ".py",
   "mimetype": "text/x-python",
   "name": "python",
   "nbconvert_exporter": "python",
   "pygments_lexer": "ipython3",
   "version": "3.12.0"
  }
 },
 "nbformat": 4,
 "nbformat_minor": 5
}
